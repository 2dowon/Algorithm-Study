{
 "cells": [
  {
   "cell_type": "code",
   "execution_count": 4,
   "id": "b5d2416f",
   "metadata": {},
   "outputs": [
    {
     "name": "stdout",
     "output_type": "stream",
     "text": [
      "9\n"
     ]
    }
   ],
   "source": [
    "def solution(absolutes, signs):\n",
    "    answer = 0\n",
    "    \n",
    "    for i in range(0,len(absolutes)):\n",
    "        if signs[i] == True:\n",
    "            answer += absolutes[i]\n",
    "        else:\n",
    "            answer += -absolutes[i]\n",
    "    \n",
    "    return answer\n",
    "\n",
    "\n",
    "absolutes = [4,7,12]\n",
    "signs = [True,False,True]\n",
    "print(solution(absolutes, signs))"
   ]
  },
  {
   "cell_type": "code",
   "execution_count": null,
   "id": "9db4a16c",
   "metadata": {},
   "outputs": [],
   "source": []
  }
 ],
 "metadata": {
  "kernelspec": {
   "display_name": "Python 3",
   "language": "python",
   "name": "python3"
  },
  "language_info": {
   "codemirror_mode": {
    "name": "ipython",
    "version": 3
   },
   "file_extension": ".py",
   "mimetype": "text/x-python",
   "name": "python",
   "nbconvert_exporter": "python",
   "pygments_lexer": "ipython3",
   "version": "3.8.8"
  }
 },
 "nbformat": 4,
 "nbformat_minor": 5
}
