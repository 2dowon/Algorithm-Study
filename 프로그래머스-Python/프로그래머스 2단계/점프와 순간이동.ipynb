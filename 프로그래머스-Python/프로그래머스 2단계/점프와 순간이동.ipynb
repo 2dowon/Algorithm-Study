{
 "cells": [
  {
   "cell_type": "markdown",
   "metadata": {},
   "source": [
    "## 내 코드"
   ]
  },
  {
   "cell_type": "markdown",
   "metadata": {},
   "source": [
    "#### 더 효율적인 방법이 있음에도 그 방법을 찾지 못하는 문제 발생"
   ]
  },
  {
   "cell_type": "code",
   "execution_count": 8,
   "metadata": {},
   "outputs": [
    {
     "name": "stdout",
     "output_type": "stream",
     "text": [
      "3\n"
     ]
    }
   ],
   "source": [
    "def solution(n):\n",
    "    ans = 0 # 배터리 소모량\n",
    "    loc = 0\n",
    "    \n",
    "    while True:\n",
    "        if loc == n:\n",
    "            return ans\n",
    "            break\n",
    "        elif (loc * 2) > n or loc == 0:\n",
    "            loc = loc + 1\n",
    "            ans = ans + 1\n",
    "        else:\n",
    "            loc = loc * 2\n",
    "\n",
    "print(solution(6))"
   ]
  },
  {
   "cell_type": "markdown",
   "metadata": {},
   "source": [
    "#### 테스트 케이스는 통과하는데, 그 외에는 정확도 및 효율성이 떨어짐"
   ]
  },
  {
   "cell_type": "code",
   "execution_count": 29,
   "metadata": {},
   "outputs": [
    {
     "name": "stdout",
     "output_type": "stream",
     "text": [
      "5\n"
     ]
    }
   ],
   "source": [
    "def solution(n):\n",
    "    ans = 0 # 배터리 소모량\n",
    "    loc = 0\n",
    "    \n",
    "    \n",
    "    while (n % 2 ==0):\n",
    "        n = n/2\n",
    "        if n % 2 != 0 :\n",
    "            n = n -1\n",
    "            ans = ans + 1\n",
    "            if n == 0:\n",
    "                break\n",
    "    \n",
    "    while True:\n",
    "        if loc == n:\n",
    "            return ans\n",
    "            break\n",
    "        elif (loc * 2) > n or loc == 0:\n",
    "            loc = loc + 1\n",
    "            ans = ans + 1\n",
    "        else:\n",
    "            loc = loc * 2\n",
    "\n",
    "print(solution(5000))"
   ]
  },
  {
   "cell_type": "markdown",
   "metadata": {},
   "source": [
    "#### 정답 코드"
   ]
  },
  {
   "cell_type": "code",
   "execution_count": 28,
   "metadata": {},
   "outputs": [
    {
     "name": "stdout",
     "output_type": "stream",
     "text": [
      "2\n"
     ]
    }
   ],
   "source": [
    "def solution(n):\n",
    "    ans = 0 # 배터리 소모량\n",
    "    loc = 0\n",
    "    \n",
    "    while True:\n",
    "        if n % 2 == 0:\n",
    "            n = n/2\n",
    "        else:\n",
    "            n = n -1\n",
    "            ans = ans + 1\n",
    "            if n == 0:\n",
    "                return ans\n",
    "                break\n",
    "\n",
    "print(solution(5))"
   ]
  },
  {
   "cell_type": "markdown",
   "metadata": {},
   "source": [
    "## 다른 사람 풀이"
   ]
  },
  {
   "cell_type": "code",
   "execution_count": 30,
   "metadata": {},
   "outputs": [
    {
     "name": "stdout",
     "output_type": "stream",
     "text": [
      "2\n"
     ]
    }
   ],
   "source": [
    "def solution(n):\n",
    "    return bin(n).count('1')\n",
    "\n",
    "print(solution(5))"
   ]
  },
  {
   "cell_type": "code",
   "execution_count": 1,
   "metadata": {},
   "outputs": [
    {
     "data": {
      "text/plain": [
       "5"
      ]
     },
     "execution_count": 1,
     "metadata": {},
     "output_type": "execute_result"
    }
   ],
   "source": [
    "def solution(n):\n",
    "    answer = 1\n",
    "    while n > 1:\n",
    "        answer += n % 2\n",
    "        n = n // 2\n",
    "    return answer\n",
    "    \n",
    "solution(5000)"
   ]
  },
  {
   "cell_type": "code",
   "execution_count": null,
   "metadata": {},
   "outputs": [],
   "source": []
  }
 ],
 "metadata": {
  "kernelspec": {
   "display_name": "Python 3",
   "language": "python",
   "name": "python3"
  },
  "language_info": {
   "codemirror_mode": {
    "name": "ipython",
    "version": 3
   },
   "file_extension": ".py",
   "mimetype": "text/x-python",
   "name": "python",
   "nbconvert_exporter": "python",
   "pygments_lexer": "ipython3",
   "version": "3.8.3"
  }
 },
 "nbformat": 4,
 "nbformat_minor": 4
}
