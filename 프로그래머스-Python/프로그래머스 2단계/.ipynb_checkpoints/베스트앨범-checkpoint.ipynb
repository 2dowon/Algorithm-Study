{
 "cells": [
  {
   "cell_type": "code",
   "execution_count": 15,
   "metadata": {
    "scrolled": true
   },
   "outputs": [
    {
     "name": "stdout",
     "output_type": "stream",
     "text": [
      "('pop', 3100)\n",
      "('classic', 1450)\n"
     ]
    },
    {
     "data": {
      "text/plain": [
       "[4, 1, 3, 0]"
      ]
     },
     "execution_count": 15,
     "metadata": {},
     "output_type": "execute_result"
    }
   ],
   "source": [
    "def solution(genres, plays):\n",
    "    answer = []\n",
    "    dic = {}\n",
    "    album_list = []\n",
    "    for i in range(len(genres)):\n",
    "        dic[genres[i]] = dic.get(genres[i], 0) + plays[i]\n",
    "        album_list.append(album(genres[i], plays[i], i))\n",
    "\n",
    "    dic = sorted(dic.items(), key=lambda dic:dic[1], reverse=True)\n",
    "    album_list = sorted(album_list, reverse=True)\n",
    "\n",
    "    while len(dic) > 0:\n",
    "        play_genre = dic.pop(0)\n",
    "        print(play_genre)\n",
    "        cnt = 0;\n",
    "        for ab in album_list:\n",
    "            if play_genre[0] == ab.genre:\n",
    "                answer.append(ab.track)\n",
    "                cnt += 1\n",
    "            if cnt == 2:\n",
    "                break\n",
    "\n",
    "    return answer\n",
    "\n",
    "class album:\n",
    "    def __init__(self, genre, play, track):\n",
    "        self.genre = genre\n",
    "        self.play = play\n",
    "        self.track = track\n",
    "\n",
    "    def __lt__(self, other):\n",
    "        return self.play < other.play\n",
    "    def __le__(self, other):\n",
    "        return self.play <= other.play\n",
    "    def __gt__(self, other):\n",
    "        return self.play > other.play\n",
    "    def __ge__(self, other):\n",
    "        return self.play >= other.play\n",
    "    def __eq__(self, other):\n",
    "        return self.play == other.play\n",
    "    def __ne__(self, other):\n",
    "        return self.play != other.play\n",
    "\n",
    "genres = ['classic', 'pop', 'classic', 'classic', 'pop']\n",
    "plays = [500, 600, 150, 800, 2500]\n",
    "solution(genres, plays)"
   ]
  },
  {
   "cell_type": "code",
   "execution_count": 61,
   "metadata": {},
   "outputs": [
    {
     "name": "stdout",
     "output_type": "stream",
     "text": [
      "{'classic': 1450, 'pop': 3100}\n"
     ]
    }
   ],
   "source": [
    "def solution(genres, plays):\n",
    "    dic = {}\n",
    "    for i in range(len(genres)):\n",
    "        dic[genres[i]] = dic.get(genres[i], 0) + plays[i]\n",
    "\n",
    "    print(dic)\n",
    "\n",
    "genres = ['classic', 'pop', 'classic', 'classic', 'pop']\n",
    "plays = [500, 600, 150, 800, 2500]\n",
    "solution(genres, plays)"
   ]
  },
  {
   "cell_type": "code",
   "execution_count": null,
   "metadata": {},
   "outputs": [],
   "source": []
  }
 ],
 "metadata": {
  "kernelspec": {
   "display_name": "Python 3",
   "language": "python",
   "name": "python3"
  },
  "language_info": {
   "codemirror_mode": {
    "name": "ipython",
    "version": 3
   },
   "file_extension": ".py",
   "mimetype": "text/x-python",
   "name": "python",
   "nbconvert_exporter": "python",
   "pygments_lexer": "ipython3",
   "version": "3.8.3"
  }
 },
 "nbformat": 4,
 "nbformat_minor": 4
}
