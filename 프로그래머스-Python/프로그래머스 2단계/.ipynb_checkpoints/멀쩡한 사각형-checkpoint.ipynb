{
 "cells": [
  {
   "cell_type": "markdown",
   "id": "42f84d10",
   "metadata": {},
   "source": [
    "## 내 풀이 ❌ => 20% 테스트케이스 밖에 통과 못함.."
   ]
  },
  {
   "cell_type": "code",
   "execution_count": 32,
   "id": "eb07ac3d",
   "metadata": {},
   "outputs": [
    {
     "name": "stdout",
     "output_type": "stream",
     "text": [
      "16\n"
     ]
    }
   ],
   "source": [
    "def solution(w,h):\n",
    "    answer = w*h + 2\n",
    "    \n",
    "    if w == h:\n",
    "        answer = w * h - w\n",
    "    else :\n",
    "        for i in range(0, w+1):\n",
    "            x = i / w * h\n",
    "            answer -= 2\n",
    "       \n",
    "        \n",
    "    \n",
    "    return answer\n",
    "\n",
    "\n",
    "print(solution(4, 6))"
   ]
  },
  {
   "cell_type": "markdown",
   "id": "690a93da",
   "metadata": {},
   "source": [
    "## 다른  사람 풀이"
   ]
  },
  {
   "cell_type": "code",
   "execution_count": 33,
   "id": "67ae4615",
   "metadata": {},
   "outputs": [
    {
     "name": "stdout",
     "output_type": "stream",
     "text": [
      "16.0\n"
     ]
    }
   ],
   "source": [
    "from math import gcd\n",
    "def solution(w,h):\n",
    "    return w * h - (w/gcd(w, h) + h/gcd(w, h) - 1) * gcd(w, h)\n",
    "\n",
    "print(solution(4, 6))"
   ]
  },
  {
   "cell_type": "code",
   "execution_count": null,
   "id": "c15df25f",
   "metadata": {},
   "outputs": [],
   "source": []
  }
 ],
 "metadata": {
  "kernelspec": {
   "display_name": "Python 3",
   "language": "python",
   "name": "python3"
  },
  "language_info": {
   "codemirror_mode": {
    "name": "ipython",
    "version": 3
   },
   "file_extension": ".py",
   "mimetype": "text/x-python",
   "name": "python",
   "nbconvert_exporter": "python",
   "pygments_lexer": "ipython3",
   "version": "3.8.8"
  }
 },
 "nbformat": 4,
 "nbformat_minor": 5
}
