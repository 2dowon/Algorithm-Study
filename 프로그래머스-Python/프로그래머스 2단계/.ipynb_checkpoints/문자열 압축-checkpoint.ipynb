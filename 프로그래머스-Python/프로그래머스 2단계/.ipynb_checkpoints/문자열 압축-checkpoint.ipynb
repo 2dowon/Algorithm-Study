{
 "cells": [
  {
   "cell_type": "markdown",
   "id": "838f691d",
   "metadata": {},
   "source": [
    "## 내 풀이"
   ]
  },
  {
   "cell_type": "code",
   "execution_count": 45,
   "id": "ea54d92b",
   "metadata": {},
   "outputs": [
    {
     "name": "stdout",
     "output_type": "stream",
     "text": [
      "7\n",
      "9\n",
      "8\n",
      "14\n",
      "17\n",
      "2\n"
     ]
    }
   ],
   "source": [
    "def solution(s):\n",
    "    answer = len(s)\n",
    "    word = \"\"\n",
    "    \n",
    "    for i in range(1,len(s)//2+1):\n",
    "        x = [s[j:j+i] for j in range(0, len(s), i)]\n",
    "        \n",
    "        cnt = 1\n",
    "        for k in range(0, len(x)-1):\n",
    "            if x[k] == x[k+1]:\n",
    "                cnt += 1\n",
    "            else:\n",
    "                if cnt != 1:\n",
    "                    word += str(cnt)+x[k]\n",
    "                else:\n",
    "                    word += x[k]\n",
    "                cnt = 1\n",
    "            \n",
    "            if k == len(x)-2:\n",
    "                if cnt != 1:\n",
    "                    word += str(cnt)+x[k+1]\n",
    "                else:\n",
    "                    word += x[k+1]\n",
    "            \n",
    "        if len(word) < answer:\n",
    "            answer = len(word)\n",
    "        \n",
    "        word = \"\"\n",
    "    \n",
    "    return answer\n",
    "\n",
    "a = [\n",
    "    \"aabbaccc\",\n",
    "    \"ababcdcdababcdcd\",\n",
    "    \"abcabcdede\",\n",
    "    \"abcabcabcabcdededededede\",\n",
    "    \"xababcdcdababcdcd\",\n",
    "\n",
    "    'aaaaaa',\n",
    "]\n",
    "\n",
    "for x in a:\n",
    "    print(solution(x))"
   ]
  },
  {
   "cell_type": "markdown",
   "id": "ffd8e2b6",
   "metadata": {},
   "source": [
    "## 다른 사람 풀이"
   ]
  },
  {
   "cell_type": "code",
   "execution_count": 44,
   "id": "f84120a9",
   "metadata": {},
   "outputs": [
    {
     "name": "stdout",
     "output_type": "stream",
     "text": [
      "7\n",
      "9\n",
      "8\n",
      "14\n",
      "17\n",
      "2\n"
     ]
    }
   ],
   "source": [
    "def compress(text, tok_len):\n",
    "    words = [text[i:i+tok_len] for i in range(0, len(text), tok_len)]\n",
    "    res = []\n",
    "    cur_word = words[0]\n",
    "    cur_cnt = 1\n",
    "    for a, b in zip(words, words[1:] + ['']):\n",
    "        if a == b:\n",
    "            cur_cnt += 1\n",
    "        else:\n",
    "            res.append([cur_word, cur_cnt])\n",
    "            cur_word = b\n",
    "            cur_cnt = 1\n",
    "    return sum(len(word) + (len(str(cnt)) if cnt > 1 else 0) for word, cnt in res)\n",
    "\n",
    "def solution(text):\n",
    "    return min(compress(text, tok_len) for tok_len in list(range(1, int(len(text)/2) + 1)) + [len(text)])\n",
    "\n",
    "a = [\n",
    "    \"aabbaccc\",\n",
    "    \"ababcdcdababcdcd\",\n",
    "    \"abcabcdede\",\n",
    "    \"abcabcabcabcdededededede\",\n",
    "    \"xababcdcdababcdcd\",\n",
    "\n",
    "    'aaaaaa',\n",
    "]\n",
    "\n",
    "for x in a:\n",
    "    print(solution(x))"
   ]
  },
  {
   "cell_type": "code",
   "execution_count": null,
   "id": "8527a836",
   "metadata": {},
   "outputs": [],
   "source": []
  }
 ],
 "metadata": {
  "kernelspec": {
   "display_name": "Python 3",
   "language": "python",
   "name": "python3"
  },
  "language_info": {
   "codemirror_mode": {
    "name": "ipython",
    "version": 3
   },
   "file_extension": ".py",
   "mimetype": "text/x-python",
   "name": "python",
   "nbconvert_exporter": "python",
   "pygments_lexer": "ipython3",
   "version": "3.8.8"
  }
 },
 "nbformat": 4,
 "nbformat_minor": 5
}
