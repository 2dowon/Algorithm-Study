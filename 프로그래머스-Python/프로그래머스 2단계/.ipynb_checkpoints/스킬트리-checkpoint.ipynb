{
 "cells": [
  {
   "cell_type": "markdown",
   "metadata": {},
   "source": [
    "## 내 풀이"
   ]
  },
  {
   "cell_type": "markdown",
   "metadata": {},
   "source": [
    "### 테스트 케이스는 통과하는데, 실제로는 런타임 에러가 발생하는 코드"
   ]
  },
  {
   "cell_type": "code",
   "execution_count": 30,
   "metadata": {},
   "outputs": [
    {
     "data": {
      "text/plain": [
       "2"
      ]
     },
     "execution_count": 30,
     "metadata": {},
     "output_type": "execute_result"
    }
   ],
   "source": [
    "def solution(skill, skill_trees):\n",
    "    answer = 0\n",
    "    skill_list = []\n",
    "    \n",
    "    for skill_tree in skill_trees :\n",
    "        for i in list(skill) :\n",
    "            skill_list.append(skill_tree.find(i))\n",
    "                \n",
    "    x = [skill_list[i:i + len(list(skill))] for i in range(0, len(skill_list), len(list(skill)))]\n",
    "    for i in x :\n",
    "        for j in range(len(x)-2) :\n",
    "            if i[j] > i[j+1] :\n",
    "                break\n",
    "            else :\n",
    "                if j == len(x)-3 :\n",
    "                    answer = answer + 1\n",
    "    \n",
    "    return answer\n",
    "\n",
    "skill = \"CBD\"\n",
    "skill_trees = [\"BACDE\", \"CBADF\", \"AECB\", \"BDA\"]\n",
    "solution(skill, skill_trees)"
   ]
  },
  {
   "cell_type": "markdown",
   "metadata": {},
   "source": [
    "### 일단 런타임 에러는 발생하지 않는데, 정확도가 많이 떨어지는 코드"
   ]
  },
  {
   "cell_type": "code",
   "execution_count": 40,
   "metadata": {},
   "outputs": [
    {
     "data": {
      "text/plain": [
       "2"
      ]
     },
     "execution_count": 40,
     "metadata": {},
     "output_type": "execute_result"
    }
   ],
   "source": [
    "def solution(skill, skill_trees):\n",
    "    answer = 0\n",
    "    skill_list = list(skill)\n",
    "    \n",
    "    for skill_tree in skill_trees :\n",
    "        for i in range(len(skill_list)-2) :\n",
    "            if skill_tree.find(skill_list[i]) > skill_tree.find(skill_list[i+1]) :\n",
    "                break\n",
    "            else:\n",
    "                if skill_tree.find(skill_list[i]) == -1 :\n",
    "                    break\n",
    "                if i  == len(skill_list)-3 :\n",
    "                    answer = answer + 1\n",
    "            \n",
    "    return answer    \n",
    "        \n",
    "skill = \"CBD\"\n",
    "skill_trees = [\"BACDE\", \"CBADF\", \"AECB\", \"BDA\"]\n",
    "solution(skill, skill_trees)"
   ]
  },
  {
   "cell_type": "markdown",
   "metadata": {},
   "source": [
    "### 뒤에 배워도 되는 스킬이 없을 경우도 고려했으나 여전히 정확성이 부족"
   ]
  },
  {
   "cell_type": "code",
   "execution_count": 65,
   "metadata": {},
   "outputs": [
    {
     "data": {
      "text/plain": [
       "2"
      ]
     },
     "execution_count": 65,
     "metadata": {},
     "output_type": "execute_result"
    }
   ],
   "source": [
    "def solution(skill, skill_trees):\n",
    "    answer = 0\n",
    "    skill_list = list(skill)\n",
    "    \n",
    "    for skill_tree in skill_trees :\n",
    "        for i in range(len(skill_list)-2) :\n",
    "            if skill_tree.find(skill_list[i]) > skill_tree.find(skill_list[i+1]) :\n",
    "                if skill_tree.find(skill_list[i+1]) == -1 :\n",
    "                    answer = answer + 1\n",
    "                else:\n",
    "                    break\n",
    "            else:\n",
    "                if skill_tree.find(skill_list[0]) == -1 :\n",
    "                    break\n",
    "                if i  == len(skill_list)-3 :\n",
    "                    answer = answer + 1\n",
    "                    break\n",
    "            \n",
    "    return answer    \n",
    "        \n",
    "skill = \"CBD\"\n",
    "skill_trees = [\"BACDE\", \"CBADF\", \"AECB\", \"BDA\"]\n",
    "solution(skill, skill_trees)"
   ]
  },
  {
   "cell_type": "markdown",
   "metadata": {},
   "source": [
    "## 다른 사람 풀이"
   ]
  },
  {
   "cell_type": "markdown",
   "metadata": {},
   "source": [
    "### for~else문 활용"
   ]
  },
  {
   "cell_type": "code",
   "execution_count": 66,
   "metadata": {},
   "outputs": [
    {
     "data": {
      "text/plain": [
       "2"
      ]
     },
     "execution_count": 66,
     "metadata": {},
     "output_type": "execute_result"
    }
   ],
   "source": [
    "def solution(skill, skill_trees):\n",
    "    answer = 0\n",
    "\n",
    "    for skills in skill_trees:\n",
    "        skill_list = list(skill)\n",
    "\n",
    "        for s in skills:\n",
    "            if s in skill:\n",
    "                if s != skill_list.pop(0):\n",
    "                    break\n",
    "        else:\n",
    "            answer = answer + 1\n",
    "\n",
    "    return answer\n",
    "\n",
    "skill = \"CBD\"\n",
    "skill_trees = [\"BACDE\", \"CBADF\", \"AECB\", \"BDA\"]\n",
    "solution(skill, skill_trees)"
   ]
  },
  {
   "cell_type": "markdown",
   "metadata": {},
   "source": [
    "### 처음에 내가 생각한 알고리즘과 비슷한 풀이"
   ]
  },
  {
   "cell_type": "code",
   "execution_count": 67,
   "metadata": {},
   "outputs": [
    {
     "data": {
      "text/plain": [
       "2"
      ]
     },
     "execution_count": 67,
     "metadata": {},
     "output_type": "execute_result"
    }
   ],
   "source": [
    "def solution(skill,skill_tree):\n",
    "    answer=0\n",
    "    \n",
    "    for i in skill_tree:\n",
    "        skillist=''\n",
    "        \n",
    "        for z in i:\n",
    "            if z in skill:\n",
    "                skillist = skillist + z\n",
    "                \n",
    "        if skillist == skill[0:len(skillist)]:\n",
    "            answer = answer + 1\n",
    "            \n",
    "    return answer\n",
    "\n",
    "skill = \"CBD\"\n",
    "skill_trees = [\"BACDE\", \"CBADF\", \"AECB\", \"BDA\"]\n",
    "solution(skill, skill_trees)"
   ]
  },
  {
   "cell_type": "code",
   "execution_count": null,
   "metadata": {},
   "outputs": [],
   "source": []
  }
 ],
 "metadata": {
  "kernelspec": {
   "display_name": "Python 3",
   "language": "python",
   "name": "python3"
  },
  "language_info": {
   "codemirror_mode": {
    "name": "ipython",
    "version": 3
   },
   "file_extension": ".py",
   "mimetype": "text/x-python",
   "name": "python",
   "nbconvert_exporter": "python",
   "pygments_lexer": "ipython3",
   "version": "3.8.3"
  }
 },
 "nbformat": 4,
 "nbformat_minor": 4
}
