{
 "cells": [
  {
   "cell_type": "markdown",
   "id": "8c495660",
   "metadata": {},
   "source": [
    "## 내 풀이 => 틀린 것 같진 않은데, 효율성이 떨어져서 시간 초과로 통과하지 못함"
   ]
  },
  {
   "cell_type": "code",
   "execution_count": 16,
   "id": "5fd9df9e",
   "metadata": {},
   "outputs": [
    {
     "name": "stdout",
     "output_type": "stream",
     "text": [
      "2\n"
     ]
    }
   ],
   "source": [
    "def solution(scoville, K):\n",
    "    answer = 0\n",
    "    \n",
    "    scoville.sort()\n",
    "    \n",
    "    while scoville[0] < K:\n",
    "        answer += 1\n",
    "        newS = scoville[0] + scoville[1] * 2\n",
    "        scoville = scoville[2:]\n",
    "        scoville.append(newS)\n",
    "        scoville.sort()\n",
    "    \n",
    "    \n",
    "    return answer\n",
    "\n",
    "\n",
    "scoville = [1, 2, 3, 9, 10, 12]\n",
    "print(solution(scoville, 7))"
   ]
  },
  {
   "cell_type": "code",
   "execution_count": null,
   "id": "d0883b9b",
   "metadata": {},
   "outputs": [],
   "source": []
  }
 ],
 "metadata": {
  "kernelspec": {
   "display_name": "Python 3",
   "language": "python",
   "name": "python3"
  },
  "language_info": {
   "codemirror_mode": {
    "name": "ipython",
    "version": 3
   },
   "file_extension": ".py",
   "mimetype": "text/x-python",
   "name": "python",
   "nbconvert_exporter": "python",
   "pygments_lexer": "ipython3",
   "version": "3.8.8"
  }
 },
 "nbformat": 4,
 "nbformat_minor": 5
}
