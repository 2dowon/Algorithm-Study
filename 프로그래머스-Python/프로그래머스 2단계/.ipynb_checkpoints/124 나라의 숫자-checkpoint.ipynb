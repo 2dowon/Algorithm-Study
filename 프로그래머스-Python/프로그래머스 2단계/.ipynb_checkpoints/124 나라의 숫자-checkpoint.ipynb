{
 "cells": [
  {
   "cell_type": "markdown",
   "id": "b60a5a6e",
   "metadata": {},
   "source": [
    "## 내 풀이"
   ]
  },
  {
   "cell_type": "code",
   "execution_count": 97,
   "id": "638fb21a",
   "metadata": {},
   "outputs": [
    {
     "name": "stdout",
     "output_type": "stream",
     "text": [
      "4 1\n",
      "14 0\n",
      "14\n"
     ]
    }
   ],
   "source": [
    "def solution(n):\n",
    "    answer = 0\n",
    "    \n",
    "    nums = [1, 2, 4]\n",
    "    x = 0\n",
    "\n",
    "    while n > 0 :\n",
    "        answer += nums[(n-1) % 3] * 10** x\n",
    "        \n",
    "        if n % 3 == 0 :\n",
    "            n = n // 3 -1\n",
    "        else:\n",
    "            n = n // 3 \n",
    "        x += 1\n",
    "    \n",
    "    return str(answer)\n",
    "\n",
    "print(solution(6))"
   ]
  },
  {
   "cell_type": "markdown",
   "id": "c3518f84",
   "metadata": {},
   "source": [
    "## 다른 사람 풀이 1"
   ]
  },
  {
   "cell_type": "code",
   "execution_count": 85,
   "id": "d37819aa",
   "metadata": {},
   "outputs": [
    {
     "name": "stdout",
     "output_type": "stream",
     "text": [
      "14\n"
     ]
    }
   ],
   "source": [
    "def change124(n):\n",
    "    num = ['1','2','4']\n",
    "    answer = \"\"\n",
    "\n",
    "\n",
    "    while n > 0:\n",
    "        n -= 1\n",
    "        answer = num[n % 3] + answer\n",
    "        n //= 3\n",
    "\n",
    "    return answer\n",
    "\n",
    "\n",
    "print(change124(6))"
   ]
  },
  {
   "cell_type": "markdown",
   "id": "de2d8e4f",
   "metadata": {},
   "source": [
    "## 다른 사람 풀이 2"
   ]
  },
  {
   "cell_type": "code",
   "execution_count": 77,
   "id": "b0c1e1f1",
   "metadata": {},
   "outputs": [
    {
     "name": "stdout",
     "output_type": "stream",
     "text": [
      "41\n"
     ]
    }
   ],
   "source": [
    "def change124(n):\n",
    "    if n<=3:\n",
    "        return '124'[n-1]\n",
    "    else:\n",
    "        q, r = divmod(n-1, 3) \n",
    "        return change124(q) + '124'[r]\n",
    "\n",
    "\n",
    "print(change124(10))"
   ]
  },
  {
   "cell_type": "code",
   "execution_count": null,
   "id": "d594767c",
   "metadata": {},
   "outputs": [],
   "source": []
  }
 ],
 "metadata": {
  "kernelspec": {
   "display_name": "Python 3",
   "language": "python",
   "name": "python3"
  },
  "language_info": {
   "codemirror_mode": {
    "name": "ipython",
    "version": 3
   },
   "file_extension": ".py",
   "mimetype": "text/x-python",
   "name": "python",
   "nbconvert_exporter": "python",
   "pygments_lexer": "ipython3",
   "version": "3.8.8"
  }
 },
 "nbformat": 4,
 "nbformat_minor": 5
}
