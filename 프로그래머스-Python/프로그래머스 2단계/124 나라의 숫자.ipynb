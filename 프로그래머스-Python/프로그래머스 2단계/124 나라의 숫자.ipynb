{
 "cells": [
  {
   "cell_type": "markdown",
   "id": "aec9e8cb",
   "metadata": {},
   "source": [
    "## 내 풀이"
   ]
  },
  {
   "cell_type": "code",
   "execution_count": 98,
   "id": "e4701dfa",
   "metadata": {},
   "outputs": [
    {
     "name": "stdout",
     "output_type": "stream",
     "text": [
      "14\n"
     ]
    }
   ],
   "source": [
    "def solution(n):\n",
    "    answer = 0\n",
    "    \n",
    "    nums = [1, 2, 4]\n",
    "    x = 0\n",
    "\n",
    "    while n > 0 :\n",
    "        answer += nums[(n-1) % 3] * 10** x\n",
    "        \n",
    "        if n % 3 == 0 :\n",
    "            n = n // 3 -1\n",
    "        else:\n",
    "            n = n // 3 \n",
    "        x += 1\n",
    "    \n",
    "    return str(answer)\n",
    "\n",
    "print(solution(6))"
   ]
  },
  {
   "cell_type": "markdown",
   "id": "33021dc2",
   "metadata": {},
   "source": [
    "## 다른 사람 풀이 1"
   ]
  },
  {
   "cell_type": "code",
   "execution_count": 85,
   "id": "08cac41d",
   "metadata": {},
   "outputs": [
    {
     "name": "stdout",
     "output_type": "stream",
     "text": [
      "14\n"
     ]
    }
   ],
   "source": [
    "def change124(n):\n",
    "    num = ['1','2','4']\n",
    "    answer = \"\"\n",
    "\n",
    "\n",
    "    while n > 0:\n",
    "        n -= 1\n",
    "        answer = num[n % 3] + answer\n",
    "        n //= 3\n",
    "\n",
    "    return answer\n",
    "\n",
    "\n",
    "print(change124(6))"
   ]
  },
  {
   "cell_type": "markdown",
   "id": "0cf63afd",
   "metadata": {},
   "source": [
    "## 다른 사람 풀이 2"
   ]
  },
  {
   "cell_type": "code",
   "execution_count": 77,
   "id": "ee6956c5",
   "metadata": {},
   "outputs": [
    {
     "name": "stdout",
     "output_type": "stream",
     "text": [
      "41\n"
     ]
    }
   ],
   "source": [
    "def change124(n):\n",
    "    if n<=3:\n",
    "        return '124'[n-1]\n",
    "    else:\n",
    "        q, r = divmod(n-1, 3) \n",
    "        return change124(q) + '124'[r]\n",
    "\n",
    "\n",
    "print(change124(10))"
   ]
  },
  {
   "cell_type": "code",
   "execution_count": null,
   "id": "0a4600d6",
   "metadata": {},
   "outputs": [],
   "source": []
  }
 ],
 "metadata": {
  "kernelspec": {
   "display_name": "Python 3",
   "language": "python",
   "name": "python3"
  },
  "language_info": {
   "codemirror_mode": {
    "name": "ipython",
    "version": 3
   },
   "file_extension": ".py",
   "mimetype": "text/x-python",
   "name": "python",
   "nbconvert_exporter": "python",
   "pygments_lexer": "ipython3",
   "version": "3.8.8"
  }
 },
 "nbformat": 4,
 "nbformat_minor": 5
}
