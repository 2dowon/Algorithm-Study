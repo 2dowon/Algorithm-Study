{
 "cells": [
  {
   "cell_type": "markdown",
   "metadata": {},
   "source": [
    "## 내 풀이"
   ]
  },
  {
   "cell_type": "markdown",
   "metadata": {},
   "source": [
    "### 테스트케이스는 통과하는데, 약간 끼워맞추기느낌이라 그 다음부터는 통과를 못함"
   ]
  },
  {
   "cell_type": "code",
   "execution_count": 49,
   "metadata": {},
   "outputs": [
    {
     "data": {
      "text/plain": [
       "[3, 3]"
      ]
     },
     "execution_count": 49,
     "metadata": {},
     "output_type": "execute_result"
    }
   ],
   "source": [
    "def solution(n, words):\n",
    "    answer = [0, 0]\n",
    "    \n",
    "    # 각 요소별로 맨 끝글자, 앞글자가 같은지 확인해서 끝말잇기 규칙이 적용되는지 테스트\n",
    "    for i in range(len(words)-1) :\n",
    "        if words[i][-1] != words[i+1][0] :\n",
    "            answer = []\n",
    "            answer.append((i+2)%n)\n",
    "            answer.append(i)\n",
    "            \n",
    "    # 똑같은 단어가 두 번 등장하면 안되므로 2번 등장할 경우 체크\n",
    "    for i in words :\n",
    "        if words.count(i) == 2 :\n",
    "            words_index = [j for j, value in enumerate(words) if value == i]\n",
    "            x = words_index[-1] + 1\n",
    "            answer = []\n",
    "            answer.append(x//3)\n",
    "            answer.append(x//3 + x%3)\n",
    "\n",
    "    return answer\n",
    "\n",
    "\n",
    "words = [\"tank\", \"kick\", \"know\", \"wheel\", \"land\", \"dream\", \"mother\", \"robot\", \"tank\"]\n",
    "solution(3, words)"
   ]
  },
  {
   "cell_type": "markdown",
   "metadata": {},
   "source": [
    "## 다른 사람 풀이"
   ]
  },
  {
   "cell_type": "code",
   "execution_count": 53,
   "metadata": {},
   "outputs": [
    {
     "data": {
      "text/plain": [
       "[3, 3]"
      ]
     },
     "execution_count": 53,
     "metadata": {},
     "output_type": "execute_result"
    }
   ],
   "source": [
    "def solution(n, words):\n",
    "    answer = []\n",
    "    turn = 0\n",
    "    wordList = [words[0]]\n",
    "    for idx in range(1, len(words)):\n",
    "        # 끝말잇기 규칙이 틀리면 break\n",
    "        if words[idx-1][-1] != words[idx][0]:\n",
    "            turn = idx\n",
    "            break\n",
    "        # 똑같은 단어가 중복돼서 나오면 break\n",
    "        if words[idx] in wordList:\n",
    "            turn = idx\n",
    "            break\n",
    "        wordList.append(words[idx])\n",
    "    answer = [turn%n +1, turn//n + 1]\n",
    "    \n",
    "    if turn == 0:\n",
    "        answer = [0, 0]\n",
    "    return answer\n",
    "\n",
    "words = [\"tank\", \"kick\", \"know\", \"wheel\", \"land\", \"dream\", \"mother\", \"robot\", \"tank\"]\n",
    "solution(3, words)"
   ]
  },
  {
   "cell_type": "code",
   "execution_count": 56,
   "metadata": {},
   "outputs": [
    {
     "data": {
      "text/plain": [
       "[3, 3]"
      ]
     },
     "execution_count": 56,
     "metadata": {},
     "output_type": "execute_result"
    }
   ],
   "source": [
    "def solution(n, words):\n",
    "    for p in range(1, len(words)):\n",
    "        if words[p][0] != words[p-1][-1] or words[p] in words[:p] : \n",
    "            return [(p%n)+1, (p//n)+1]\n",
    "    else:\n",
    "        return [0,0]\n",
    "\n",
    "words = [\"tank\", \"kick\", \"know\", \"wheel\", \"land\", \"dream\", \"mother\", \"robot\", \"tank\"]\n",
    "solution(3, words)"
   ]
  },
  {
   "cell_type": "code",
   "execution_count": 60,
   "metadata": {},
   "outputs": [
    {
     "data": {
      "text/plain": [
       "['tank', 'kick', 'know', 'wheel', 'land', 'dream', 'mother', 'robot']"
      ]
     },
     "execution_count": 60,
     "metadata": {},
     "output_type": "execute_result"
    }
   ],
   "source": [
    "words = [\"tank\", \"kick\", \"know\", \"wheel\", \"land\", \"dream\", \"mother\", \"robot\", \"tank\"]\n",
    "\n",
    "words[:8]"
   ]
  },
  {
   "cell_type": "code",
   "execution_count": null,
   "metadata": {},
   "outputs": [],
   "source": []
  }
 ],
 "metadata": {
  "kernelspec": {
   "display_name": "Python 3",
   "language": "python",
   "name": "python3"
  },
  "language_info": {
   "codemirror_mode": {
    "name": "ipython",
    "version": 3
   },
   "file_extension": ".py",
   "mimetype": "text/x-python",
   "name": "python",
   "nbconvert_exporter": "python",
   "pygments_lexer": "ipython3",
   "version": "3.8.3"
  }
 },
 "nbformat": 4,
 "nbformat_minor": 4
}
