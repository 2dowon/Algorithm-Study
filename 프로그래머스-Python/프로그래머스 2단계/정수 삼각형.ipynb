{
 "cells": [
  {
   "cell_type": "code",
   "execution_count": 4,
   "metadata": {},
   "outputs": [
    {
     "data": {
      "text/plain": [
       "30"
      ]
     },
     "execution_count": 4,
     "metadata": {},
     "output_type": "execute_result"
    }
   ],
   "source": [
    "def solution(triangle):\n",
    "    answer = 0\n",
    "    dp = [triangle[0]]\n",
    "    for i,rowlst in enumerate(triangle):\n",
    "        if i == 0: \n",
    "            continue\n",
    "        lst = []\n",
    "        rowlength = len(rowlst)-1\n",
    "        for k,in_value in enumerate(rowlst):\n",
    "            if k==0:\n",
    "                lst.append(dp[i-1][0]+in_value)\n",
    "            elif k==rowlength:\n",
    "                lst.append(dp[i-1][rowlength-1]+ in_value)\n",
    "            else:\n",
    "                lst.append(max(dp[i-1][k-1],dp[i-1][k])+in_value)\n",
    "        dp.append(lst)\n",
    "\n",
    "    for value in dp[-1]: \n",
    "        answer = max(answer,value)\n",
    "    \n",
    "    return answer\n",
    "\n",
    "triangle = [[7], [3, 8], [8, 1, 0], [2, 7, 4, 4], [4, 5, 2, 6, 5]]\n",
    "solution(triangle)"
   ]
  },
  {
   "cell_type": "code",
   "execution_count": 6,
   "metadata": {},
   "outputs": [
    {
     "data": {
      "text/plain": [
       "30"
      ]
     },
     "execution_count": 6,
     "metadata": {},
     "output_type": "execute_result"
    }
   ],
   "source": [
    "def solution(triangle):\n",
    "    for t in range(1, len(triangle)):\n",
    "        for i in range(t+1):\n",
    "            if i == 0:\n",
    "                triangle[t][0] += triangle[t-1][0]\n",
    "            elif i == t:\n",
    "                triangle[t][-1] += triangle[t-1][-1]\n",
    "            else:\n",
    "                triangle[t][i] += max(triangle[t-1][i-1], triangle[t-1][i])\n",
    "    return max(triangle[-1])\n",
    "\n",
    "triangle = [[7], [3, 8], [8, 1, 0], [2, 7, 4, 4], [4, 5, 2, 6, 5]]\n",
    "solution(triangle)"
   ]
  },
  {
   "cell_type": "code",
   "execution_count": null,
   "metadata": {},
   "outputs": [],
   "source": []
  }
 ],
 "metadata": {
  "kernelspec": {
   "display_name": "Python 3",
   "language": "python",
   "name": "python3"
  },
  "language_info": {
   "codemirror_mode": {
    "name": "ipython",
    "version": 3
   },
   "file_extension": ".py",
   "mimetype": "text/x-python",
   "name": "python",
   "nbconvert_exporter": "python",
   "pygments_lexer": "ipython3",
   "version": "3.8.3"
  }
 },
 "nbformat": 4,
 "nbformat_minor": 4
}
