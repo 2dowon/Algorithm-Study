{
 "cells": [
  {
   "cell_type": "markdown",
   "id": "74afaac7",
   "metadata": {},
   "source": [
    "## 내 풀이 => 몇몇 테스트케이스가 런타임 에러 발생"
   ]
  },
  {
   "cell_type": "code",
   "execution_count": 16,
   "id": "43895e30",
   "metadata": {},
   "outputs": [
    {
     "name": "stdout",
     "output_type": "stream",
     "text": [
      "2\n"
     ]
    }
   ],
   "source": [
    "def solution(scoville, K):\n",
    "    answer = 0\n",
    "    \n",
    "    scoville.sort()\n",
    "    \n",
    "    while scoville[0] < K:\n",
    "        answer += 1\n",
    "        newS = scoville[0] + scoville[1] * 2\n",
    "        scoville = scoville[2:]\n",
    "        scoville.append(newS)\n",
    "        scoville.sort()\n",
    "    \n",
    "    \n",
    "    return answer\n",
    "\n",
    "\n",
    "scoville = [1, 2, 3, 9, 10, 12]\n",
    "print(solution(scoville, 7))"
   ]
  },
  {
   "cell_type": "markdown",
   "id": "b8c96c76",
   "metadata": {},
   "source": [
    "## 내 풀이 => 예외처리를 빠뜨려서 예외처리를 통해 런타임 에러는 해결했으나 효율성 테스트에서 시간초과가 발생함"
   ]
  },
  {
   "cell_type": "code",
   "execution_count": 4,
   "id": "77bea507",
   "metadata": {},
   "outputs": [
    {
     "name": "stdout",
     "output_type": "stream",
     "text": [
      "-1\n"
     ]
    }
   ],
   "source": [
    "def solution(scoville, K):\n",
    "    answer = 0\n",
    "    s_list = scoville\n",
    "        \n",
    "    while min(s_list) < K:\n",
    "        try:\n",
    "            s_list.sort()\n",
    "            answer += 1\n",
    "            newS = s_list[0] + s_list[1] * 2\n",
    "            s_list = s_list[2:]\n",
    "            s_list.append(newS)\n",
    "        except IndexError:\n",
    "            return -1\n",
    "            \n",
    "    return answer\n",
    "\n",
    "scoville = [1, 2]\n",
    "print(solution(scoville, 7))"
   ]
  },
  {
   "cell_type": "markdown",
   "id": "b316d678",
   "metadata": {},
   "source": [
    "## 다른 사람 풀이"
   ]
  },
  {
   "cell_type": "code",
   "execution_count": 14,
   "id": "6dc3d642",
   "metadata": {},
   "outputs": [
    {
     "name": "stdout",
     "output_type": "stream",
     "text": [
      "2\n"
     ]
    }
   ],
   "source": [
    "import heapq\n",
    "\n",
    "def solution(scoville, k):\n",
    "    heap = []\n",
    "    for num in scoville:\n",
    "        heapq.heappush(heap, num)\n",
    "  \n",
    "    mix_cnt = 0\n",
    "    while heap[0] < k:\n",
    "        try:\n",
    "            heapq.heappush(heap, heapq.heappop(heap) + (heapq.heappop(heap) * 2))\n",
    "        except IndexError:\n",
    "            return -1\n",
    "        mix_cnt += 1\n",
    "\n",
    "    return mix_cnt\n",
    "\n",
    "scoville = [1, 2, 3, 9, 10, 12]\n",
    "print(solution(scoville, 7))"
   ]
  },
  {
   "cell_type": "code",
   "execution_count": null,
   "id": "94e3d769",
   "metadata": {},
   "outputs": [],
   "source": []
  }
 ],
 "metadata": {
  "kernelspec": {
   "display_name": "Python 3",
   "language": "python",
   "name": "python3"
  },
  "language_info": {
   "codemirror_mode": {
    "name": "ipython",
    "version": 3
   },
   "file_extension": ".py",
   "mimetype": "text/x-python",
   "name": "python",
   "nbconvert_exporter": "python",
   "pygments_lexer": "ipython3",
   "version": "3.8.8"
  }
 },
 "nbformat": 4,
 "nbformat_minor": 5
}
