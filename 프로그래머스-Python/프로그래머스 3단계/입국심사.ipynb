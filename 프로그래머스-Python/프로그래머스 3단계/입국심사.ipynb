{
 "cells": [
  {
   "cell_type": "markdown",
   "id": "0f1ecc5e",
   "metadata": {},
   "source": [
    "## 다른 사람 풀이"
   ]
  },
  {
   "cell_type": "code",
   "execution_count": 34,
   "id": "775c8219",
   "metadata": {},
   "outputs": [
    {
     "name": "stdout",
     "output_type": "stream",
     "text": [
      "28\n"
     ]
    }
   ],
   "source": [
    "def solution(n, times):\n",
    "    start = 0 #시작점\n",
    "    end = max(times) * n #끝점\n",
    "    \n",
    "    answer = 0\n",
    "    while (start <= end):\n",
    "        people = 0\n",
    "        mid = (start+end) // 2\n",
    "        for x in times:\n",
    "            if mid > x:\n",
    "                people += (mid//x) # 심사가능한 사람 수\n",
    "        # n명 이상으로 심사 가능한 경우(왼쪽 탐색)        \n",
    "        if people >= n:\n",
    "            answer = mid # 적어도 6명이 심사가 가능해야 하므로 여기서 저장\n",
    "            end = mid - 1\n",
    "        # n명 미만으로 심사 가능한 경우 (오른쪽 탐색)\n",
    "        else:\n",
    "            start = mid + 1\n",
    "            \n",
    "    return answer\n",
    "\n",
    "times = [7,10]\n",
    "print(solution(6, times))"
   ]
  },
  {
   "cell_type": "code",
   "execution_count": null,
   "id": "f0dad084",
   "metadata": {},
   "outputs": [],
   "source": []
  }
 ],
 "metadata": {
  "kernelspec": {
   "display_name": "Python 3",
   "language": "python",
   "name": "python3"
  },
  "language_info": {
   "codemirror_mode": {
    "name": "ipython",
    "version": 3
   },
   "file_extension": ".py",
   "mimetype": "text/x-python",
   "name": "python",
   "nbconvert_exporter": "python",
   "pygments_lexer": "ipython3",
   "version": "3.8.8"
  }
 },
 "nbformat": 4,
 "nbformat_minor": 5
}
