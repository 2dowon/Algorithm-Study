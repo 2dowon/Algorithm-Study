{
 "cells": [
  {
   "cell_type": "markdown",
   "id": "375bfeb0",
   "metadata": {},
   "source": [
    "## 내 풀이 => 60%의 정확성으로 실패"
   ]
  },
  {
   "cell_type": "code",
   "execution_count": 55,
   "id": "cb39e8e5",
   "metadata": {},
   "outputs": [
    {
     "name": "stdout",
     "output_type": "stream",
     "text": [
      "4\n",
      "3\n",
      "-1\n"
     ]
    }
   ],
   "source": [
    "def solution(N, number):\n",
    "    answer = 1\n",
    "        \n",
    "    n_list = [N+N, N-N, N*N, N//N, int(str(N)*answer)]\n",
    "\n",
    "    while number not in n_list and answer < 9:\n",
    "        answer += 1\n",
    "        new_n_list = []\n",
    "        for i in n_list:\n",
    "            new_n_list.append(i+N)\n",
    "            new_n_list.append(i-N)\n",
    "            new_n_list.append(N-i)\n",
    "            new_n_list.append(i*N)\n",
    "            if N != 0:\n",
    "                new_n_list.append(i//N)\n",
    "            elif i != 0:\n",
    "                new_n_list.append(N//i)\n",
    "            new_n_list.append(int(str(N)*answer))\n",
    "        n_list += new_n_list\n",
    "    \n",
    "    if answer > 8:\n",
    "        return -1\n",
    "    \n",
    "    return answer\n",
    "\n",
    "print(solution(5,12))\n",
    "print(solution(2,11))\n",
    "print(solution(5,31168))"
   ]
  },
  {
   "cell_type": "markdown",
   "id": "3f4bb2ab",
   "metadata": {},
   "source": [
    "## 다른 사람 풀이"
   ]
  },
  {
   "cell_type": "code",
   "execution_count": 57,
   "id": "42af7657",
   "metadata": {},
   "outputs": [
    {
     "name": "stdout",
     "output_type": "stream",
     "text": [
      "4\n",
      "3\n",
      "-1\n"
     ]
    }
   ],
   "source": [
    "def solution(N, number):\n",
    "    answer = -1\n",
    "    dp = []\n",
    "    \n",
    "    for i in range (1,9) : \n",
    "        all_case = set()\n",
    "        check_number = int(str(N)* i)\n",
    "        all_case.add(check_number)\n",
    "        \n",
    "        for j in range(0,i-1):\n",
    "            for op1 in dp[j]:\n",
    "                for op2 in dp[-j-1] :\n",
    "                    all_case.add(op1 - op2)\n",
    "                    all_case.add(op1 + op2)\n",
    "                    all_case.add(op1 * op2)\n",
    "                    if op2 != 0:\n",
    "                        all_case.add(op1 // op2)\n",
    "                        \n",
    "        if number in all_case:\n",
    "            answer = i\n",
    "            break\n",
    "            \n",
    "        dp.append(all_case) \n",
    "        \n",
    "\n",
    "    return answer\n",
    "\n",
    "print(solution(5,12))\n",
    "print(solution(2,11))\n",
    "print(solution(5,31168))"
   ]
  },
  {
   "cell_type": "code",
   "execution_count": 51,
   "id": "598ceaf5",
   "metadata": {},
   "outputs": [
    {
     "data": {
      "text/plain": [
       "0"
      ]
     },
     "execution_count": 51,
     "metadata": {},
     "output_type": "execute_result"
    }
   ],
   "source": [
    "0//4"
   ]
  },
  {
   "cell_type": "code",
   "execution_count": null,
   "id": "ba9b5665",
   "metadata": {},
   "outputs": [],
   "source": []
  }
 ],
 "metadata": {
  "kernelspec": {
   "display_name": "Python 3",
   "language": "python",
   "name": "python3"
  }
 },
 "nbformat": 4,
 "nbformat_minor": 5
}
