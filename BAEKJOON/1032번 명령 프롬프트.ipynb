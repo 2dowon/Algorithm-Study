{
 "cells": [
  {
   "cell_type": "markdown",
   "metadata": {},
   "source": [
    "## 내 풀이"
   ]
  },
  {
   "cell_type": "markdown",
   "metadata": {},
   "source": [
    "### 개수가 3개일 때만 가능한듯..? 그래서 결과가 출력 초과"
   ]
  },
  {
   "cell_type": "code",
   "execution_count": 24,
   "metadata": {},
   "outputs": [
    {
     "name": "stdout",
     "output_type": "stream",
     "text": [
      "3\n",
      "config.inf\n",
      "config.sys\n",
      "configures\n",
      "config????\n"
     ]
    }
   ],
   "source": [
    "n = int(input())\n",
    "array = []\n",
    "for _ in range(n):\n",
    "    array.append(input())\n",
    "\n",
    "answer = []\n",
    "for i in range(n-1):\n",
    "    for j in range(len(array[0])):\n",
    "        if array[i][j] == array[i+1][j]:\n",
    "            answer.append(array[i][j])\n",
    "        else:\n",
    "            answer.append(\"?\")\n",
    "                \n",
    "answer = \"\".join(answer)\n",
    "x = len(array[0])\n",
    "answer_list = []\n",
    "\n",
    "for i in range(0, x*n, x):\n",
    "    answer_list.append(answer[i:i+x])\n",
    "    \n",
    "new_answer = []\n",
    "\n",
    "for i in range(n-2):\n",
    "    for j in range(len(answer_list[0])):\n",
    "        if answer_list[i][j] == answer_list[i+1][j]:\n",
    "            new_answer.append(answer_list[i][j])\n",
    "        else:\n",
    "            new_answer.append(\"?\")\n",
    "            \n",
    "print(\"\".join(new_answer))"
   ]
  },
  {
   "cell_type": "markdown",
   "metadata": {},
   "source": [
    "### 런타임 에러 발생"
   ]
  },
  {
   "cell_type": "code",
   "execution_count": 40,
   "metadata": {},
   "outputs": [
    {
     "name": "stdout",
     "output_type": "stream",
     "text": [
      "3\n",
      "config.inf\n",
      "config.sys\n",
      "configures\n",
      "config????\n"
     ]
    }
   ],
   "source": [
    "n = int(input())\n",
    "array = []\n",
    "for _ in range(n):\n",
    "    array.append(input())\n",
    "\n",
    "answer = []\n",
    "for j in range(len(array[0])):\n",
    "    if array[0][j] == array[1][j]:\n",
    "        answer.append(array[0][j])\n",
    "    else:\n",
    "        answer.append(\"?\")\n",
    "\n",
    "if n == 1:\n",
    "    print(array[0])\n",
    "elif n == 2:\n",
    "    print(\"\".join(answer))\n",
    "else:\n",
    "    for i in range(n-2):\n",
    "        for j in range(len(array[0])):\n",
    "            if answer[j] == array[2+i][j]:\n",
    "                pass\n",
    "            else:\n",
    "                answer[j] = \"?\"\n",
    "    print(\"\".join(answer))"
   ]
  },
  {
   "cell_type": "code",
   "execution_count": 44,
   "metadata": {},
   "outputs": [
    {
     "name": "stdout",
     "output_type": "stream",
     "text": [
      "2\n",
      "cof\n",
      "co2\n",
      "co?\n"
     ]
    }
   ],
   "source": [
    "n = int(input())\n",
    "array = []\n",
    "for _ in range(n):\n",
    "    array.append(input())\n",
    "\n",
    "answer = []\n",
    "if n == 1:\n",
    "    print(array[0])\n",
    "else:\n",
    "    for j in range(len(array[0])):\n",
    "        if array[0][j] == array[1][j]:\n",
    "            answer.append(array[0][j])\n",
    "        else:\n",
    "            answer.append(\"?\")\n",
    "\n",
    "if n == 2:\n",
    "    print(\"\".join(answer))\n",
    "else:\n",
    "    for i in range(n-2):\n",
    "        for j in range(len(array[0])):\n",
    "            if answer[j] == array[2+i][j]:\n",
    "                pass\n",
    "            else:\n",
    "                answer[j] = \"?\"\n",
    "    print(\"\".join(answer))"
   ]
  },
  {
   "cell_type": "code",
   "execution_count": 48,
   "metadata": {},
   "outputs": [
    {
     "name": "stdout",
     "output_type": "stream",
     "text": [
      "3\n",
      "config.sys\n",
      "config.inf\n",
      "configures\n",
      "config????\n"
     ]
    }
   ],
   "source": [
    "n = int(input())\n",
    "array = []\n",
    "for _ in range(n):\n",
    "    array.append(input())\n",
    "\n",
    "answer = list(array[0])\n",
    "for i in range(n - 1):\n",
    "    for j in range(len(answer)):\n",
    "        if answer[j] != array[i+1][j]:\n",
    "            answer[j] = '?'\n",
    "print(''.join(answer))"
   ]
  },
  {
   "cell_type": "markdown",
   "metadata": {},
   "source": [
    "## 다른 사람 풀이"
   ]
  },
  {
   "cell_type": "code",
   "execution_count": 23,
   "metadata": {},
   "outputs": [
    {
     "name": "stdout",
     "output_type": "stream",
     "text": [
      "3\n",
      "config.sys\n",
      "config.sys\n",
      "configures\n",
      "config???s\n"
     ]
    }
   ],
   "source": [
    "n = int(input())\n",
    "a = list(input())\n",
    "a_len = len(a)\n",
    "for i in range(n - 1):\n",
    "    b = list(input())\n",
    "    for j in range(a_len):\n",
    "        if a[j] != b[j]:\n",
    "            a[j] = '?'\n",
    "print(''.join(a))"
   ]
  }
 ],
 "metadata": {
  "kernelspec": {
   "display_name": "Python 3",
   "language": "python",
   "name": "python3"
  },
  "language_info": {
   "codemirror_mode": {
    "name": "ipython",
    "version": 3
   },
   "file_extension": ".py",
   "mimetype": "text/x-python",
   "name": "python",
   "nbconvert_exporter": "python",
   "pygments_lexer": "ipython3",
   "version": "3.8.3"
  }
 },
 "nbformat": 4,
 "nbformat_minor": 4
}
