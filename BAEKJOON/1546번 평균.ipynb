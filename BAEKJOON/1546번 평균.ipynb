{
 "cells": [
  {
   "cell_type": "code",
   "execution_count": 10,
   "metadata": {},
   "outputs": [
    {
     "name": "stdout",
     "output_type": "stream",
     "text": [
      "3\n",
      "10 20 30\n",
      "66.66666666666667\n"
     ]
    }
   ],
   "source": [
    "n = int(input())\n",
    "scores = list(map(int, input().split()))\n",
    "x = max(scores)\n",
    "\n",
    "score_sum = 0\n",
    "for score in scores:\n",
    "    score_sum = score_sum + score/x*100\n",
    "print(score_sum/n)"
   ]
  },
  {
   "cell_type": "code",
   "execution_count": null,
   "metadata": {},
   "outputs": [],
   "source": []
  }
 ],
 "metadata": {
  "kernelspec": {
   "display_name": "Python 3",
   "language": "python",
   "name": "python3"
  },
  "language_info": {
   "codemirror_mode": {
    "name": "ipython",
    "version": 3
   },
   "file_extension": ".py",
   "mimetype": "text/x-python",
   "name": "python",
   "nbconvert_exporter": "python",
   "pygments_lexer": "ipython3",
   "version": "3.8.3"
  }
 },
 "nbformat": 4,
 "nbformat_minor": 4
}
