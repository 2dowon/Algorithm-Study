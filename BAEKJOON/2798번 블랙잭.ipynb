{
 "cells": [
  {
   "cell_type": "code",
   "execution_count": 23,
   "metadata": {},
   "outputs": [
    {
     "name": "stdout",
     "output_type": "stream",
     "text": [
      "10 500\n",
      "93 181 245 214 315 36 185 138 216 295\n",
      "497\n"
     ]
    }
   ],
   "source": [
    "n, m = map(int, input().split())\n",
    "n_list = list(map(int, input().split()))\n",
    "answer = 0\n",
    "for i in range(len(n_list)-2):\n",
    "    for j in range(i+1,len(n_list)-1):\n",
    "        for k in range(j+1,len(n_list)):\n",
    "            x = n_list[i] + n_list[j] + n_list[k]\n",
    "            if x <= m :\n",
    "                if m-answer > m-x :\n",
    "                    answer = x\n",
    "print(answer)"
   ]
  },
  {
   "cell_type": "code",
   "execution_count": 25,
   "metadata": {},
   "outputs": [
    {
     "name": "stdout",
     "output_type": "stream",
     "text": [
      "10 500\n",
      "93 181 245 214 315 36 185 138 216 295\n",
      "497\n"
     ]
    }
   ],
   "source": [
    "n, m = map(int, input().split())\n",
    "a = list(map(int, input().split()))\n",
    "b = len(a)\n",
    "sum = 0\n",
    "for i in range(0, b - 2):\n",
    "        for j in range(i + 1, b - 1):\n",
    "                for k in range(j + 1, b):\n",
    "                        if a[i] + a[j] + a[k] > m:\n",
    "                                continue\n",
    "                        else:\n",
    "                                sum = max(sum, a[i] + a[j] + a[k])\n",
    "print(sum)"
   ]
  },
  {
   "cell_type": "code",
   "execution_count": null,
   "metadata": {},
   "outputs": [],
   "source": []
  }
 ],
 "metadata": {
  "kernelspec": {
   "display_name": "Python 3",
   "language": "python",
   "name": "python3"
  },
  "language_info": {
   "codemirror_mode": {
    "name": "ipython",
    "version": 3
   },
   "file_extension": ".py",
   "mimetype": "text/x-python",
   "name": "python",
   "nbconvert_exporter": "python",
   "pygments_lexer": "ipython3",
   "version": "3.8.3"
  }
 },
 "nbformat": 4,
 "nbformat_minor": 4
}
