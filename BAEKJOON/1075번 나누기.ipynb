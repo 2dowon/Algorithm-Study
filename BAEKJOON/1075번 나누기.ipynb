{
 "cells": [
  {
   "cell_type": "code",
   "execution_count": null,
   "metadata": {},
   "outputs": [],
   "source": [
    "n = int(input())\n",
    "f = int(input())"
   ]
  },
  {
   "cell_type": "code",
   "execution_count": 8,
   "metadata": {},
   "outputs": [
    {
     "name": "stdout",
     "output_type": "stream",
     "text": [
      "1000\n",
      "['1', '0', '0', '0']\n",
      "[1, 0, 0, 0]\n"
     ]
    }
   ],
   "source": [
    "n = list(input())\n",
    "print(n)\n",
    "print(list(map(int,n)))"
   ]
  },
  {
   "cell_type": "code",
   "execution_count": 11,
   "metadata": {},
   "outputs": [
    {
     "name": "stdout",
     "output_type": "stream",
     "text": [
      "[1, 0, 0, 0]\n"
     ]
    }
   ],
   "source": [
    "n = list(str(1000))\n",
    "f = 3\n",
    "\n",
    "n_list = list(map(int,n))\n",
    "print(n_list)"
   ]
  },
  {
   "cell_type": "code",
   "execution_count": 20,
   "metadata": {},
   "outputs": [
    {
     "name": "stdout",
     "output_type": "stream",
     "text": [
      "10\n",
      "90\n",
      "1001\n"
     ]
    }
   ],
   "source": [
    "n = 1021\n",
    "\n",
    "print(1000 % 11)\n",
    "print(1000 // 11)\n",
    "print(11*91)"
   ]
  },
  {
   "cell_type": "code",
   "execution_count": 30,
   "metadata": {},
   "outputs": [
    {
     "name": "stdout",
     "output_type": "stream",
     "text": [
      "['1', '0', '0', '0']\n",
      "1000\n"
     ]
    }
   ],
   "source": [
    "n = list(str(1021))\n",
    "n[-1] = \"0\"\n",
    "n[-2] = \"0\"\n",
    "print(n)\n",
    "\n",
    "min_n = \"\".join(n)\n",
    "print(min_n)"
   ]
  },
  {
   "cell_type": "markdown",
   "metadata": {},
   "source": [
    "## 최종 코드"
   ]
  },
  {
   "cell_type": "code",
   "execution_count": 47,
   "metadata": {},
   "outputs": [
    {
     "name": "stdout",
     "output_type": "stream",
     "text": [
      "1000\n",
      "3\n",
      "02\n"
     ]
    }
   ],
   "source": [
    "n = list(input())\n",
    "f = int(input())\n",
    "\n",
    "n[-1] = \"0\"\n",
    "n[-2] = \"0\"\n",
    "min_n = int(\"\".join(n))\n",
    "\n",
    "if min_n % f == 0:\n",
    "    print(str(min_n)[-2:])\n",
    "else:\n",
    "    x = (min_n // f + 1) * f\n",
    "    print(str(x)[-2:])"
   ]
  },
  {
   "cell_type": "code",
   "execution_count": 1,
   "metadata": {},
   "outputs": [
    {
     "name": "stdout",
     "output_type": "stream",
     "text": [
      "1000\n",
      "5\n",
      "00\n"
     ]
    }
   ],
   "source": [
    "n = list(input())\n",
    "f = int(input())\n",
    "\n",
    "n[-1] = \"0\"\n",
    "n[-2] = \"0\"\n",
    "min_n = int(\"\".join(n))\n",
    "\n",
    "if min_n % f == 0:\n",
    "    print(\"00\")\n",
    "else:\n",
    "    x = (min_n // f + 1) * f\n",
    "    print(str(x)[-2:])"
   ]
  },
  {
   "cell_type": "code",
   "execution_count": null,
   "metadata": {},
   "outputs": [],
   "source": []
  }
 ],
 "metadata": {
  "kernelspec": {
   "display_name": "Python 3",
   "language": "python",
   "name": "python3"
  },
  "language_info": {
   "codemirror_mode": {
    "name": "ipython",
    "version": 3
   },
   "file_extension": ".py",
   "mimetype": "text/x-python",
   "name": "python",
   "nbconvert_exporter": "python",
   "pygments_lexer": "ipython3",
   "version": "3.8.3"
  }
 },
 "nbformat": 4,
 "nbformat_minor": 4
}
