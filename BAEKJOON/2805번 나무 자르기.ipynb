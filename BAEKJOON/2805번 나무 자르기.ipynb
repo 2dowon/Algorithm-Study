{
 "cells": [
  {
   "cell_type": "code",
   "execution_count": 4,
   "metadata": {},
   "outputs": [
    {
     "name": "stdout",
     "output_type": "stream",
     "text": [
      "4 7\n",
      "20 15 10 17\n",
      "15\n"
     ]
    }
   ],
   "source": [
    "n, m = map(int, input().split())\n",
    "nums = list(map(int, input().split()))\n",
    "\n",
    "def solution(array, target):\n",
    "    start = 0\n",
    "    end = max(array)\n",
    "\n",
    "    result = 0\n",
    "    while(start <= end):\n",
    "        total = 0\n",
    "        mid = (start + end) // 2\n",
    "        for x in array:\n",
    "            if x > mid:\n",
    "                total += x - mid\n",
    "        if total < target:\n",
    "            end = mid - 1\n",
    "        else:\n",
    "            result = mid \n",
    "            start = mid + 1\n",
    "\n",
    "    print(result)\n",
    "    \n",
    "solution(nums, m)"
   ]
  },
  {
   "cell_type": "code",
   "execution_count": null,
   "metadata": {},
   "outputs": [],
   "source": []
  }
 ],
 "metadata": {
  "kernelspec": {
   "display_name": "Python 3",
   "language": "python",
   "name": "python3"
  },
  "language_info": {
   "codemirror_mode": {
    "name": "ipython",
    "version": 3
   },
   "file_extension": ".py",
   "mimetype": "text/x-python",
   "name": "python",
   "nbconvert_exporter": "python",
   "pygments_lexer": "ipython3",
   "version": "3.8.3"
  }
 },
 "nbformat": 4,
 "nbformat_minor": 4
}
