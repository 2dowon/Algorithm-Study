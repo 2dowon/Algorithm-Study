{
 "cells": [
  {
   "cell_type": "markdown",
   "metadata": {},
   "source": [
    "## 내 풀이 => 테스트는 맞는데, 제출하면 틀림"
   ]
  },
  {
   "cell_type": "code",
   "execution_count": 9,
   "metadata": {},
   "outputs": [
    {
     "name": "stdout",
     "output_type": "stream",
     "text": [
      "7 3\n",
      "<3, 6, 2, 7, 5, 1, 4>\n"
     ]
    }
   ],
   "source": [
    "n, k = map(int, input().split())\n",
    "\n",
    "n_list = [i for i in range(1,n+1)]\n",
    "k_list = []\n",
    "while (len(k_list) != n):\n",
    "    x = k\n",
    "    if (len(n_list) < k):\n",
    "        x = k % len(n_list)\n",
    "    k_list.append(n_list[x-1])\n",
    "    n_list = n_list[x:] + n_list[0:x-1]\n",
    "\n",
    "answer = str(k_list).replace('[', '<').replace(']', '>')    \n",
    "print(answer)"
   ]
  },
  {
   "cell_type": "markdown",
   "metadata": {},
   "source": [
    "## 다른 사람 풀이"
   ]
  },
  {
   "cell_type": "code",
   "execution_count": 8,
   "metadata": {},
   "outputs": [
    {
     "name": "stdout",
     "output_type": "stream",
     "text": [
      "7 3\n",
      "<3, 6, 2, 7, 5, 1, 4>\n"
     ]
    }
   ],
   "source": [
    "from collections import deque\n",
    "n, k = map(int, input().split())\n",
    "s = deque([])\n",
    "for i in range(1, n + 1):\n",
    "    s.append(i)\n",
    "print('<', end='')\n",
    "while s:\n",
    "    for i in range(k - 1):\n",
    "        s.append(s[0])\n",
    "        s.popleft()\n",
    "    print(s.popleft(), end='')\n",
    "    if s:\n",
    "        print(', ', end='')\n",
    "print('>')"
   ]
  },
  {
   "cell_type": "code",
   "execution_count": null,
   "metadata": {},
   "outputs": [],
   "source": []
  }
 ],
 "metadata": {
  "kernelspec": {
   "display_name": "Python 3",
   "language": "python",
   "name": "python3"
  },
  "language_info": {
   "codemirror_mode": {
    "name": "ipython",
    "version": 3
   },
   "file_extension": ".py",
   "mimetype": "text/x-python",
   "name": "python",
   "nbconvert_exporter": "python",
   "pygments_lexer": "ipython3",
   "version": "3.8.3"
  }
 },
 "nbformat": 4,
 "nbformat_minor": 4
}
