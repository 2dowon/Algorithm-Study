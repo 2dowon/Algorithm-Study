{
 "cells": [
  {
   "cell_type": "code",
   "execution_count": 15,
   "metadata": {},
   "outputs": [
    {
     "name": "stdout",
     "output_type": "stream",
     "text": [
      "zZa\n",
      "Z\n"
     ]
    }
   ],
   "source": [
    "import string \n",
    "\n",
    "word = list(input().upper())\n",
    "alphabets = list(string.ascii_uppercase)\n",
    "alphabet_count = [(idx, word.count(alphabet)) for idx, alphabet in enumerate(alphabets)]\n",
    "count_sort = sorted(alphabet_count, key=lambda x:x[1])\n",
    "\n",
    "if count_sort[-1][1] == count_sort[-2][1]:\n",
    "    print(\"?\")\n",
    "else:\n",
    "    print(alphabets[count_sort[-1][0]])"
   ]
  },
  {
   "cell_type": "code",
   "execution_count": 4,
   "metadata": {},
   "outputs": [
    {
     "data": {
      "text/plain": [
       "['A',\n",
       " 'B',\n",
       " 'C',\n",
       " 'D',\n",
       " 'E',\n",
       " 'F',\n",
       " 'G',\n",
       " 'H',\n",
       " 'I',\n",
       " 'J',\n",
       " 'K',\n",
       " 'L',\n",
       " 'M',\n",
       " 'N',\n",
       " 'O',\n",
       " 'P',\n",
       " 'Q',\n",
       " 'R',\n",
       " 'S',\n",
       " 'T',\n",
       " 'U',\n",
       " 'V',\n",
       " 'W',\n",
       " 'X',\n",
       " 'Y',\n",
       " 'Z']"
      ]
     },
     "execution_count": 4,
     "metadata": {},
     "output_type": "execute_result"
    }
   ],
   "source": [
    "import string \n",
    "alphabet = list(string.ascii_uppercase)\n",
    "alphabet"
   ]
  },
  {
   "cell_type": "markdown",
   "metadata": {},
   "source": [
    "### 다른 사람 풀이"
   ]
  },
  {
   "cell_type": "code",
   "execution_count": 16,
   "metadata": {},
   "outputs": [
    {
     "name": "stdout",
     "output_type": "stream",
     "text": [
      "Mississipi\n",
      "?\n"
     ]
    }
   ],
   "source": [
    "n = input().upper()\n",
    "t = [n.count(i) for i in set(n)]\n",
    "idx = [i for i,x in enumerate(t) if x == max(t)]\n",
    "if len(idx) > 1:\n",
    "    print(\"?\")\n",
    "else:\n",
    "    print(list(set(n))[t.index(max(t))])"
   ]
  },
  {
   "cell_type": "code",
   "execution_count": 20,
   "metadata": {},
   "outputs": [
    {
     "name": "stdout",
     "output_type": "stream",
     "text": [
      "afdfasfasfa\n",
      "{'D', 'S', 'A', 'F'}\n",
      "[1, 2, 4, 4]\n",
      "[2, 3]\n"
     ]
    }
   ],
   "source": [
    "n = input().upper()\n",
    "print(set(n))\n",
    "t = [n.count(i) for i in set(n)]\n",
    "print(t)\n",
    "idx = [i for i,x in enumerate(t) if x == max(t)]\n",
    "print(idx)"
   ]
  },
  {
   "cell_type": "code",
   "execution_count": null,
   "metadata": {},
   "outputs": [],
   "source": []
  }
 ],
 "metadata": {
  "kernelspec": {
   "display_name": "Python 3",
   "language": "python",
   "name": "python3"
  },
  "language_info": {
   "codemirror_mode": {
    "name": "ipython",
    "version": 3
   },
   "file_extension": ".py",
   "mimetype": "text/x-python",
   "name": "python",
   "nbconvert_exporter": "python",
   "pygments_lexer": "ipython3",
   "version": "3.8.3"
  }
 },
 "nbformat": 4,
 "nbformat_minor": 4
}
