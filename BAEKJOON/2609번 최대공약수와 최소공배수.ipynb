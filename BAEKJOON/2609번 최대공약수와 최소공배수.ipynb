{
 "cells": [
  {
   "cell_type": "code",
   "execution_count": 9,
   "metadata": {},
   "outputs": [
    {
     "name": "stdout",
     "output_type": "stream",
     "text": [
      "24 18\n",
      "6\n",
      "72\n"
     ]
    }
   ],
   "source": [
    "n, m = map(int, input().split())\n",
    "n_list = [i for i in range(1, n+1) if n % i == 0]\n",
    "m_list = [j for j in range(1, m+1) if m % j == 0]\n",
    "\n",
    "max_num = [i for i in n_list if i in m_list] # 최대 공약수\n",
    "\n",
    "max_nm = max(n,m)\n",
    "min_num = [k*max_nm for k in range(1, max_nm+1) if (max_nm*k) % min(n,m) == 0] # 최소 공배수\n",
    "\n",
    "print(max_num[-1])\n",
    "print(min_num[0])"
   ]
  },
  {
   "cell_type": "code",
   "execution_count": null,
   "metadata": {},
   "outputs": [],
   "source": []
  }
 ],
 "metadata": {
  "kernelspec": {
   "display_name": "Python 3",
   "language": "python",
   "name": "python3"
  },
  "language_info": {
   "codemirror_mode": {
    "name": "ipython",
    "version": 3
   },
   "file_extension": ".py",
   "mimetype": "text/x-python",
   "name": "python",
   "nbconvert_exporter": "python",
   "pygments_lexer": "ipython3",
   "version": "3.8.3"
  }
 },
 "nbformat": 4,
 "nbformat_minor": 4
}
