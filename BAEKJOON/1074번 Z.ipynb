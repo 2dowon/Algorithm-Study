{
 "cells": [
  {
   "cell_type": "markdown",
   "metadata": {},
   "source": [
    "## 다른 사람 풀이"
   ]
  },
  {
   "cell_type": "code",
   "execution_count": 15,
   "metadata": {},
   "outputs": [
    {
     "name": "stdout",
     "output_type": "stream",
     "text": [
      "2 3 1\n",
      "11\n"
     ]
    }
   ],
   "source": [
    "n, r, c = map(int, input().split()) # r행 c열\n",
    "num = 0\n",
    "while n > 0:\n",
    "    temp = (2 ** n) // 2\n",
    "    if n > 1:\n",
    "        if temp > r and temp <= c: # 2사분면\n",
    "            num += temp ** 2\n",
    "            c -= temp\n",
    "        elif temp <= r and temp > c: # 3사분면\n",
    "            num += (temp ** 2) * 2\n",
    "            r -= temp\n",
    "        elif temp <= r and temp <= c: # 4사분면\n",
    "            num += (temp ** 2) * 3\n",
    "            r -= temp\n",
    "            c -= temp\n",
    "    elif n == 1:\n",
    "        if r == 0 and c == 1:\n",
    "            num += 1\n",
    "        elif r == 1 and c == 0:\n",
    "            num += 2\n",
    "        elif r == 1 and c == 1:\n",
    "            num += 3\n",
    "    n -= 1\n",
    "print(num)"
   ]
  },
  {
   "cell_type": "code",
   "execution_count": null,
   "metadata": {},
   "outputs": [],
   "source": []
  }
 ],
 "metadata": {
  "kernelspec": {
   "display_name": "Python 3",
   "language": "python",
   "name": "python3"
  },
  "language_info": {
   "codemirror_mode": {
    "name": "ipython",
    "version": 3
   },
   "file_extension": ".py",
   "mimetype": "text/x-python",
   "name": "python",
   "nbconvert_exporter": "python",
   "pygments_lexer": "ipython3",
   "version": "3.8.3"
  }
 },
 "nbformat": 4,
 "nbformat_minor": 4
}
