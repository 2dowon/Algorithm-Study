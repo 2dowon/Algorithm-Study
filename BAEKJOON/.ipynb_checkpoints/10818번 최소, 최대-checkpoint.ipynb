{
 "cells": [
  {
   "cell_type": "code",
   "execution_count": 1,
   "metadata": {},
   "outputs": [
    {
     "name": "stdout",
     "output_type": "stream",
     "text": [
      "5\n",
      "20 10 35 30 7\n",
      "35 7\n"
     ]
    }
   ],
   "source": [
    "n = int(input())\n",
    "n_list = list(map(int, input().split()))\n",
    "print(min(n_list), max(n_list))"
   ]
  },
  {
   "cell_type": "code",
   "execution_count": 2,
   "metadata": {},
   "outputs": [
    {
     "name": "stdout",
     "output_type": "stream",
     "text": [
      "5\n",
      "20 10 35 30 7\n",
      "7 35\n"
     ]
    }
   ],
   "source": [
    "n = int(input())\n",
    "n_list = list(map(int, input().split()))\n",
    "min_n = n_list[0]\n",
    "max_n = n_list[0]\n",
    "\n",
    "for n in n_list:\n",
    "    if n > max_n:\n",
    "        max_n = n\n",
    "    if n < min_n:\n",
    "        min_n = n\n",
    "        \n",
    "print(min_n, max_n)"
   ]
  },
  {
   "cell_type": "code",
   "execution_count": 3,
   "metadata": {},
   "outputs": [
    {
     "name": "stdout",
     "output_type": "stream",
     "text": [
      "5\n",
      "20 10 35 30 7\n",
      "7 35\n"
     ]
    }
   ],
   "source": [
    "n = int(input())\n",
    "n_list = list(map(int, input().split()))\n",
    "n_list.sort()\n",
    "print(n_list[0], n_list[-1])"
   ]
  },
  {
   "cell_type": "code",
   "execution_count": null,
   "metadata": {},
   "outputs": [],
   "source": []
  }
 ],
 "metadata": {
  "kernelspec": {
   "display_name": "Python 3",
   "language": "python",
   "name": "python3"
  },
  "language_info": {
   "codemirror_mode": {
    "name": "ipython",
    "version": 3
   },
   "file_extension": ".py",
   "mimetype": "text/x-python",
   "name": "python",
   "nbconvert_exporter": "python",
   "pygments_lexer": "ipython3",
   "version": "3.8.3"
  }
 },
 "nbformat": 4,
 "nbformat_minor": 4
}
