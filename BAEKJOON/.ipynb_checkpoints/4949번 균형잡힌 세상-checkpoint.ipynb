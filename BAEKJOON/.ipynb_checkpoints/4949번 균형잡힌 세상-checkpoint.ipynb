{
 "cells": [
  {
   "cell_type": "code",
   "execution_count": 2,
   "metadata": {},
   "outputs": [
    {
     "name": "stdout",
     "output_type": "stream",
     "text": [
      "So when I die (the [first] I will see in (heaven) is a score list).\n",
      "yes\n",
      "[ first in ] ( first out ).\n",
      "yes\n",
      "Half Moon tonight (At least it is better than no Moon at all].\n",
      "no\n",
      "A rope may form )( a trail in a maze.\n",
      "no\n",
      "Help( I[m being held prisoner in a fortune cookie factory)].\n",
      "yes\n",
      ".\n"
     ]
    }
   ],
   "source": [
    "while True:\n",
    "    s = list(input())\n",
    "    worlds = [i for i in s if i == \"[\" or i == \"]\" or i == \"(\" or i == \")\"]\n",
    "    sl_cnt = 0 # ( 개수\n",
    "    sr_cnt = 0 # ) 개수\n",
    "    ll_cnt = 0 # [ 개수\n",
    "    lr_cnt = 0 # ] 개수\n",
    "    answer = True\n",
    "    \n",
    "    if s == [\".\"]:\n",
    "        break\n",
    "    for world in worlds:\n",
    "        if world == \"[\":\n",
    "            ll_cnt += 1\n",
    "        elif world == \"]\":\n",
    "            lr_cnt += 1\n",
    "        elif world == \"(\":\n",
    "            sl_cnt += 1\n",
    "        elif world == \")\":\n",
    "            sr_cnt += 1\n",
    "            \n",
    "        if sl_cnt < sr_cnt or ll_cnt < lr_cnt:\n",
    "            answer = False\n",
    "        \n",
    "    if answer == True:\n",
    "        print(\"yes\")\n",
    "    elif answer == False:\n",
    "        print(\"no\")"
   ]
  },
  {
   "cell_type": "markdown",
   "metadata": {},
   "source": [
    "## 다른 사람 풀이"
   ]
  },
  {
   "cell_type": "code",
   "execution_count": 3,
   "metadata": {},
   "outputs": [
    {
     "name": "stdout",
     "output_type": "stream",
     "text": [
      "So when I die (the [first] I will see in (heaven) is a score list).\n",
      "yes\n",
      "[ first in ] ( first out ).\n",
      "yes\n",
      "Half Moon tonight (At least it is better than no Moon at all].\n",
      "no\n",
      "A rope may form )( a trail in a maze.\n",
      "no\n",
      "Help( I[m being held prisoner in a fortune cookie factory)].\n",
      "no\n",
      "([ (([( [ ] ) ( ) (( ))] )) ]).\n",
      "yes\n",
      " .\n",
      "yes\n",
      ".\n"
     ]
    }
   ],
   "source": [
    "while True:\n",
    "    s = input()\n",
    "    if s == '.':\n",
    "        break\n",
    "    stk = []\n",
    "    temp = True\n",
    "    for i in s:\n",
    "        if i == '(' or i == '[':\n",
    "            stk.append(i)\n",
    "        elif i == ')':\n",
    "            if not stk or stk[-1] == '[':\n",
    "                temp = False\n",
    "                break\n",
    "            elif stk[-1] == '(':\n",
    "                stk.pop()\n",
    "        elif i == ']':\n",
    "            if not stk or stk[-1] == '(':\n",
    "                temp = False\n",
    "                break\n",
    "            elif stk[-1] == '[':\n",
    "                stk.pop()\n",
    "    if temp == True and not stk:\n",
    "        print('yes')\n",
    "    else:\n",
    "        print('no')"
   ]
  },
  {
   "cell_type": "code",
   "execution_count": null,
   "metadata": {},
   "outputs": [],
   "source": []
  }
 ],
 "metadata": {
  "kernelspec": {
   "display_name": "Python 3",
   "language": "python",
   "name": "python3"
  },
  "language_info": {
   "codemirror_mode": {
    "name": "ipython",
    "version": 3
   },
   "file_extension": ".py",
   "mimetype": "text/x-python",
   "name": "python",
   "nbconvert_exporter": "python",
   "pygments_lexer": "ipython3",
   "version": "3.8.3"
  }
 },
 "nbformat": 4,
 "nbformat_minor": 4
}
