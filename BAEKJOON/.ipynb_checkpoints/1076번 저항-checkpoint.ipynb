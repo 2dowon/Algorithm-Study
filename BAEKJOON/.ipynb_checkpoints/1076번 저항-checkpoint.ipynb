{
 "cells": [
  {
   "cell_type": "code",
   "execution_count": 32,
   "metadata": {},
   "outputs": [
    {
     "name": "stdout",
     "output_type": "stream",
     "text": [
      "yellow\n",
      "violet\n",
      "red\n",
      "4700\n"
     ]
    }
   ],
   "source": [
    "color, color2, color3 = [input() for _ in range(3)]\n",
    "\n",
    "color_list = [\"black\",\"brown\", \"red\", \"orange\", \"yellow\", \"green\", \"blue\", \"violet\", \"grey\", \"white\"]\n",
    "value_list = [i for i in range(len(color_list))]\n",
    "multiply = 1\n",
    "mul_list = [1]\n",
    "for i in range(len(color_list)-1):\n",
    "    multiply = multiply * 10\n",
    "    mul_list.append(multiply)\n",
    "\n",
    "resistance = list(zip(color_list, value_list, mul_list))\n",
    "color_idx = color_list.index(color)\n",
    "color2_idx = color_list.index(color2)\n",
    "color3_idx = color_list.index(color3)\n",
    "values = str(resistance[color_idx][1]) + str(resistance[color2_idx][1])\n",
    "answer = int(values) * resistance[color3_idx][2]\n",
    "print(answer)"
   ]
  },
  {
   "cell_type": "code",
   "execution_count": null,
   "metadata": {},
   "outputs": [],
   "source": []
  }
 ],
 "metadata": {
  "kernelspec": {
   "display_name": "Python 3",
   "language": "python",
   "name": "python3"
  },
  "language_info": {
   "codemirror_mode": {
    "name": "ipython",
    "version": 3
   },
   "file_extension": ".py",
   "mimetype": "text/x-python",
   "name": "python",
   "nbconvert_exporter": "python",
   "pygments_lexer": "ipython3",
   "version": "3.8.3"
  }
 },
 "nbformat": 4,
 "nbformat_minor": 2
}
