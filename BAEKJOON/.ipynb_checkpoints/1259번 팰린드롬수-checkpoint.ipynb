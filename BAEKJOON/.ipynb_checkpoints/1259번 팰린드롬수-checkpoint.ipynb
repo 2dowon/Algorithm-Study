{
 "cells": [
  {
   "cell_type": "code",
   "execution_count": null,
   "metadata": {},
   "outputs": [
    {
     "name": "stdout",
     "output_type": "stream",
     "text": [
      "123\n",
      "no\n",
      "12321\n",
      "yes\n",
      "010\n",
      "yes\n",
      "0\n",
      "yes\n"
     ]
    }
   ],
   "source": [
    "while True:\n",
    "    word = list(map(int, input()))\n",
    "    if word == [0]:\n",
    "        break\n",
    "    else:\n",
    "        answer = 1\n",
    "        for i in range(len(word) // 2):\n",
    "            if word[0+i] == word[-(1+i)]:\n",
    "                continue\n",
    "            else:\n",
    "                answer = 0\n",
    "                break\n",
    "\n",
    "        if answer == 1:\n",
    "            print(\"yes\")\n",
    "        else:\n",
    "            print(\"no\")"
   ]
  },
  {
   "cell_type": "code",
   "execution_count": null,
   "metadata": {},
   "outputs": [],
   "source": []
  }
 ],
 "metadata": {
  "kernelspec": {
   "display_name": "Python 3",
   "language": "python",
   "name": "python3"
  },
  "language_info": {
   "codemirror_mode": {
    "name": "ipython",
    "version": 3
   },
   "file_extension": ".py",
   "mimetype": "text/x-python",
   "name": "python",
   "nbconvert_exporter": "python",
   "pygments_lexer": "ipython3",
   "version": "3.8.3"
  }
 },
 "nbformat": 4,
 "nbformat_minor": 4
}
