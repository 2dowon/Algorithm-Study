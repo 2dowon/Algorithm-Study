{
 "cells": [
  {
   "cell_type": "markdown",
   "metadata": {},
   "source": [
    "## 처음 제출한 풀이 => 실패\n",
    "- 최빈값 중 두 번째로 작은 값을 출력해야 하는데, 아래 코드의 경우 dic_list 자체가 들어온 순서대로 저장되기 때문에 두번 째 값을 출력한다고 해서 그게 두번 째로 작은 값이라는 보장이 없다.\n",
    "- 산술평균의 경우 소수점 이하 첫째 자리에서 반올림해야 하는데, 이를 하지 않았음"
   ]
  },
  {
   "cell_type": "code",
   "execution_count": null,
   "metadata": {},
   "outputs": [],
   "source": [
    "import sys\n",
    "\n",
    "n = int(sys.stdin.readline())\n",
    "n_list = [int(sys.stdin.readline()) for _ in range(n)]\n",
    "n_list.sort()\n",
    "\n",
    "n_dict = {}\n",
    "for i in n_list:\n",
    "    n_dict[i] = n_dict.get(i, 0) + 1\n",
    "dic_list = sorted(n_dict.items(), key=lambda n: n[1], reverse=True)\n",
    "if n == 1:\n",
    "    many_n = dic_list[0][0]\n",
    "else:\n",
    "    if dic_list[0][1] == dic_list[1][1]:\n",
    "        many_n = dic_list[1][0]\n",
    "    else:\n",
    "        many_n = dic_list[0][0]\n",
    "    \n",
    "print(sum(n_list)//n) # 산술평균\n",
    "print(n_list[n//2]) # 중앙값\n",
    "print(many_n) # 최빈값\n",
    "print(n_list[-1] - n_list[0]) # 범위"
   ]
  },
  {
   "cell_type": "markdown",
   "metadata": {},
   "source": [
    "### 반례를 찾기 위해 테스트한 코드\n",
    "아래 코드처럼 value를 기준으로 정렬했기 때문에 key의 경우 들어온 순서대로 저장된다"
   ]
  },
  {
   "cell_type": "code",
   "execution_count": 22,
   "metadata": {},
   "outputs": [
    {
     "data": {
      "text/plain": [
       "[('15', 5), ('10', 5), ('11', 5), ('12', 5), ('13', 5), ('-2', 2), ('1', 1)]"
      ]
     },
     "execution_count": 22,
     "metadata": {},
     "output_type": "execute_result"
    }
   ],
   "source": [
    "a = {\"1\":1, \"15\":5,\"10\":5, \"11\":5, \"-2\":2, \"12\":5, \"13\":5}\n",
    "b = sorted(a.items(), key=lambda n: n[1], reverse=True)\n",
    "b"
   ]
  },
  {
   "cell_type": "markdown",
   "metadata": {},
   "source": [
    "## 성공"
   ]
  },
  {
   "cell_type": "code",
   "execution_count": 16,
   "metadata": {},
   "outputs": [
    {
     "name": "stdout",
     "output_type": "stream",
     "text": [
      "5\n",
      "1\n",
      "3\n",
      "8\n",
      "-2\n",
      "2\n",
      "2\n",
      "2\n",
      "1\n",
      "10\n"
     ]
    }
   ],
   "source": [
    "import sys\n",
    "\n",
    "n = int(sys.stdin.readline())\n",
    "n_list = [int(sys.stdin.readline()) for _ in range(n)]\n",
    "n_list.sort()\n",
    "\n",
    "n_dict = {}\n",
    "for i in n_list:\n",
    "    n_dict[i] = n_dict.get(i, 0) + 1\n",
    "x = max(list(n_dict.values()))\n",
    "x_list = [key for key, value in n_dict.items() if value == x]\n",
    "x_list.sort()\n",
    "    \n",
    "print(round(sum(n_list)/n)) # 산술평균\n",
    "print(n_list[n//2]) # 중앙값\n",
    "# 최빈값\n",
    "if len(x_list) == 1:\n",
    "    print(x_list[0])\n",
    "else:\n",
    "    print(x_list[1])\n",
    "print(n_list[-1] - n_list[0]) # 범위"
   ]
  },
  {
   "cell_type": "code",
   "execution_count": null,
   "metadata": {},
   "outputs": [],
   "source": []
  }
 ],
 "metadata": {
  "kernelspec": {
   "display_name": "Python 3",
   "language": "python",
   "name": "python3"
  },
  "language_info": {
   "codemirror_mode": {
    "name": "ipython",
    "version": 3
   },
   "file_extension": ".py",
   "mimetype": "text/x-python",
   "name": "python",
   "nbconvert_exporter": "python",
   "pygments_lexer": "ipython3",
   "version": "3.8.3"
  }
 },
 "nbformat": 4,
 "nbformat_minor": 4
}
