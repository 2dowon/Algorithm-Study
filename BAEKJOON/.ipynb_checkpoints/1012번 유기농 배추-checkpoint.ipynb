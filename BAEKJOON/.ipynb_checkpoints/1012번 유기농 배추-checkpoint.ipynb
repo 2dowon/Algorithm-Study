{
 "cells": [
  {
   "cell_type": "markdown",
   "metadata": {},
   "source": [
    "## 다른 사람 풀이 (dfs)"
   ]
  },
  {
   "cell_type": "code",
   "execution_count": 38,
   "metadata": {},
   "outputs": [
    {
     "name": "stdout",
     "output_type": "stream",
     "text": [
      "1\n",
      "5 3 6\n",
      "0 2\n",
      "1 2\n",
      "2 2\n",
      "3 2\n",
      "4 2\n",
      "4 0\n",
      "2\n"
     ]
    }
   ],
   "source": [
    "import sys \n",
    "sys.setrecursionlimit(10000) \n",
    "\n",
    "def dfs(x, y): \n",
    "    dx, dy = [1, -1, 0, 0], [0, 0, 1, -1] \n",
    "    # 상,하,좌,우 확인 \n",
    "    for i in range(4): \n",
    "        nx, ny = x + dx[i], y + dy[i]\n",
    "        if (0 <= nx < N) and (0 <= ny < M): \n",
    "            if matrix[nx][ny] == 1: \n",
    "                matrix[nx][ny] = -1 \n",
    "                dfs(nx, ny) \n",
    "                \n",
    "T = int(input()) \n",
    "for _ in range(T): \n",
    "    M, N, K = map(int, input().split()) \n",
    "    matrix = [[0]*M for _ in range(N)] \n",
    "    cnt = 0 \n",
    "    \n",
    "    # 행렬 생성 \n",
    "    for _ in range(K): \n",
    "        m, n = map(int, input().split()) \n",
    "        matrix[n][m] = 1 \n",
    "        \n",
    "    for i in range(N): # 행 (바깥 리스트) \n",
    "        for j in range(M): # 열 (내부 리스트) \n",
    "            if matrix[i][j] > 0: \n",
    "                dfs(i, j) \n",
    "                cnt += 1 \n",
    "    print(cnt)"
   ]
  }
 ],
 "metadata": {
  "kernelspec": {
   "display_name": "Python 3",
   "language": "python",
   "name": "python3"
  },
  "language_info": {
   "codemirror_mode": {
    "name": "ipython",
    "version": 3
   },
   "file_extension": ".py",
   "mimetype": "text/x-python",
   "name": "python",
   "nbconvert_exporter": "python",
   "pygments_lexer": "ipython3",
   "version": "3.8.3"
  }
 },
 "nbformat": 4,
 "nbformat_minor": 4
}
