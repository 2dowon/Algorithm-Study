{
 "cells": [
  {
   "cell_type": "markdown",
   "metadata": {},
   "source": [
    "## 시간 초과"
   ]
  },
  {
   "cell_type": "code",
   "execution_count": null,
   "metadata": {},
   "outputs": [],
   "source": [
    "import sys\n",
    "\n",
    "n = int(input())\n",
    "s_list = list(sys.stdin.readline().split())\n",
    "m = int(input())\n",
    "a_list = list(sys.stdin.readline().split())\n",
    "\n",
    "answer = [str(s_list.count(a)) for a in a_list]\n",
    "print(\" \".join(answer))"
   ]
  },
  {
   "cell_type": "code",
   "execution_count": 7,
   "metadata": {},
   "outputs": [
    {
     "name": "stdout",
     "output_type": "stream",
     "text": [
      "6 3 2 10 10 10 -10 -10 7 3\n",
      "10 9 -5 2 3 4 5 -10\n",
      "3 0 0 1 2 0 0 2\n"
     ]
    }
   ],
   "source": [
    "s_list = list(input().split())\n",
    "a_list = list(input().split())\n",
    "\n",
    "answer = [str(s_list.count(a)) for a in a_list]\n",
    "print(\" \".join(answer))"
   ]
  },
  {
   "cell_type": "markdown",
   "metadata": {},
   "source": [
    "## count없이 dict이용해서 시간 초과 해결"
   ]
  },
  {
   "cell_type": "code",
   "execution_count": 16,
   "metadata": {},
   "outputs": [
    {
     "name": "stdout",
     "output_type": "stream",
     "text": [
      "10\n",
      "6 3 2 10 10 10 -10 -10 7 3\n",
      "8\n",
      "10 9 -5 2 3 4 5 -10\n",
      "3 0 0 1 2 0 0 2\n"
     ]
    }
   ],
   "source": [
    "n = int(input())\n",
    "s_list = list(input().split())\n",
    "dict = {}\n",
    "for s in s_list:\n",
    "    if s in dict:\n",
    "        dict[s] += 1\n",
    "    else:\n",
    "        dict[s] = 1\n",
    "\n",
    "m = int(input())\n",
    "a_list = list(input().split())\n",
    "answer = []\n",
    "for a in a_list:\n",
    "    if a in dict:\n",
    "        answer.append(str(dict[a]))\n",
    "    else:\n",
    "        answer.append(\"0\")\n",
    "\n",
    "print(\" \".join(answer))"
   ]
  },
  {
   "cell_type": "code",
   "execution_count": null,
   "metadata": {},
   "outputs": [],
   "source": []
  }
 ],
 "metadata": {
  "kernelspec": {
   "display_name": "Python 3",
   "language": "python",
   "name": "python3"
  },
  "language_info": {
   "codemirror_mode": {
    "name": "ipython",
    "version": 3
   },
   "file_extension": ".py",
   "mimetype": "text/x-python",
   "name": "python",
   "nbconvert_exporter": "python",
   "pygments_lexer": "ipython3",
   "version": "3.8.3"
  }
 },
 "nbformat": 4,
 "nbformat_minor": 4
}
