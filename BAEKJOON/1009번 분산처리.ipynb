{
 "cells": [
  {
   "cell_type": "code",
   "execution_count": 10,
   "metadata": {},
   "outputs": [
    {
     "name": "stdout",
     "output_type": "stream",
     "text": [
      "1\n",
      "99 99\n",
      "9\n"
     ]
    }
   ],
   "source": [
    "t = int(input())\n",
    "for _ in range(t):\n",
    "    a, b = map(int, input().split())\n",
    "    a = a % 10\n",
    "\n",
    "    if a == 0:\n",
    "        print(10)\n",
    "    elif a == 1 or a == 5 or a ==6:\n",
    "            print(a)\n",
    "    elif a== 4 or a == 9:\n",
    "        b = b % 2\n",
    "        if b == 1:\n",
    "            print(a)\n",
    "        else:\n",
    "            print((a*a) % 10)\n",
    "    else:\n",
    "        b = b % 4\n",
    "        if b == 0:\n",
    "            print((a**4) % 10 % 10 % 10)\n",
    "        else:\n",
    "            print((a**b) % 10 % 10 % 10)"
   ]
  },
  {
   "cell_type": "code",
   "execution_count": 7,
   "metadata": {},
   "outputs": [
    {
     "name": "stdout",
     "output_type": "stream",
     "text": [
      "5\n",
      "1 8\n",
      "1\n",
      "3 7\n",
      "7\n",
      "6 2\n",
      "6\n",
      "7 100\n",
      "1\n",
      "9 635\n",
      "9\n"
     ]
    }
   ],
   "source": [
    "t = int(input())\n",
    "for _ in range(t):\n",
    "    a, b = map(int, input().split())\n",
    "    a = a % 10\n",
    "\n",
    "    if a == 0:\n",
    "        print(10)\n",
    "    elif a == 1 or a == 5 or a ==6:\n",
    "            print(a)\n",
    "    elif a== 4 or a == 9:\n",
    "        b = b % 2\n",
    "        if b == 1:\n",
    "            print(a)\n",
    "        else:\n",
    "            print((a*a) % 10)\n",
    "    else:\n",
    "        b = b % 4\n",
    "        if b == 0:\n",
    "            print((a**4) % 10 % 10 % 10)\n",
    "        else:\n",
    "            print((a**b) % 10 % 10 % 10)"
   ]
  },
  {
   "cell_type": "code",
   "execution_count": 4,
   "metadata": {},
   "outputs": [
    {
     "name": "stdout",
     "output_type": "stream",
     "text": [
      "5\n",
      "1 6\n",
      "3 7\n",
      "6 2\n",
      "7 100\n",
      "9 635\n",
      "1\n",
      "7\n",
      "6\n",
      "1\n",
      "9\n"
     ]
    }
   ],
   "source": [
    "num = int(input())\n",
    "result = []\n",
    "list = [[10], [1], [6, 2, 4, 8], [1, 3, 9, 7], [6, 4], [5], [6], [1, 7, 9, 3], [6, 8, 4, 2], [1, 9]]\n",
    "\n",
    "for _ in range(num):\n",
    "    a, b = map(int, input().split())\n",
    "    a = a % 10\n",
    "\n",
    "    if a == 0 or a == 1 or a == 5 or a == 6:\n",
    "        result.append(list[a][0])\n",
    "    elif a == 4 or a == 9:\n",
    "        result.append(list[a][b%2])\n",
    "    else:\n",
    "        result.append(list[a][b%4])\n",
    "        \n",
    "for i in range(num):\n",
    "    print(result[i])"
   ]
  },
  {
   "cell_type": "code",
   "execution_count": 5,
   "metadata": {},
   "outputs": [
    {
     "name": "stdout",
     "output_type": "stream",
     "text": [
      "5\n",
      "1 6\n",
      "1\n",
      "3 7\n",
      "7\n",
      "6 2\n",
      "6\n",
      "7 100\n",
      "1\n",
      "9 635\n",
      "9\n"
     ]
    }
   ],
   "source": [
    "num = int(input())\n",
    "list = [[10], [1], [6, 2, 4, 8], [1, 3, 9, 7], [6, 4], [5], [6], [1, 7, 9, 3], [6, 8, 4, 2], [1, 9]]\n",
    "\n",
    "for _ in range(num):\n",
    "    a, b = map(int, input().split())\n",
    "    a = a % 10\n",
    "\n",
    "    if a == 0 or a == 1 or a == 5 or a == 6:\n",
    "        print(list[a][0])\n",
    "    elif a == 4 or a == 9:\n",
    "        print(list[a][b%2])\n",
    "    else:\n",
    "        print(list[a][b%4])"
   ]
  },
  {
   "cell_type": "code",
   "execution_count": null,
   "metadata": {},
   "outputs": [],
   "source": []
  }
 ],
 "metadata": {
  "kernelspec": {
   "display_name": "Python 3",
   "language": "python",
   "name": "python3"
  },
  "language_info": {
   "codemirror_mode": {
    "name": "ipython",
    "version": 3
   },
   "file_extension": ".py",
   "mimetype": "text/x-python",
   "name": "python",
   "nbconvert_exporter": "python",
   "pygments_lexer": "ipython3",
   "version": "3.8.3"
  }
 },
 "nbformat": 4,
 "nbformat_minor": 4
}
