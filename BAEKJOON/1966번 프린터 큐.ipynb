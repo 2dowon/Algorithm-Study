{
 "cells": [
  {
   "cell_type": "code",
   "execution_count": 20,
   "metadata": {},
   "outputs": [
    {
     "name": "stdout",
     "output_type": "stream",
     "text": [
      "3\n",
      "1 0\n",
      "5\n",
      "1\n",
      "4 2\n",
      "1 2 3 4\n",
      "2\n",
      "6 0\n",
      "1 1 9 1 1 1\n",
      "5\n"
     ]
    }
   ],
   "source": [
    "from collections import deque\n",
    "\n",
    "t = int(input())\n",
    "for _ in range(t):\n",
    "    n, m = map(int, input().split())\n",
    "    n_list = list(map(int, input().split()))\n",
    "    n_list_idx = [i for i in range(len(n_list))]\n",
    "    x = deque(list(zip(n_list, n_list_idx)))\n",
    "\n",
    "    cnt = 1\n",
    "    while len(x) > 0:\n",
    "        max_x = max(x)\n",
    "        if x[0][0] < max_x[0]:\n",
    "            x.append(x.popleft())\n",
    "        else:\n",
    "            if x[0][1] == m:\n",
    "                print(cnt)\n",
    "                break\n",
    "            x.popleft()\n",
    "            cnt += 1"
   ]
  },
  {
   "cell_type": "markdown",
   "metadata": {},
   "source": [
    "### 다른 사람 풀이"
   ]
  },
  {
   "cell_type": "code",
   "execution_count": 21,
   "metadata": {},
   "outputs": [
    {
     "name": "stdout",
     "output_type": "stream",
     "text": [
      "3\n",
      "1 0\n",
      "5\n",
      "1\n",
      "4 2\n",
      "1 2 3 4\n",
      "2\n",
      "6 0\n",
      "1 1 9 1 1 1\n",
      "5\n"
     ]
    }
   ],
   "source": [
    "t = int(input())\n",
    "for i in range(t):\n",
    "    n, m = map(int, input().split())\n",
    "    s = list(map(int, input().split()))\n",
    "    s_ = [0 for i in range(n)]\n",
    "    s_[m] = 1\n",
    "    cnt = 0\n",
    "    while True:\n",
    "        if s[0] == max(s):\n",
    "            cnt += 1\n",
    "            if s_[0] == 1:\n",
    "                print(cnt)\n",
    "                break\n",
    "            else:\n",
    "                del s[0]\n",
    "                del s_[0]\n",
    "        else:\n",
    "            s.append(s[0])\n",
    "            del s[0]\n",
    "            s_.append(s_[0])\n",
    "            del s_[0]"
   ]
  },
  {
   "cell_type": "code",
   "execution_count": null,
   "metadata": {},
   "outputs": [],
   "source": []
  }
 ],
 "metadata": {
  "kernelspec": {
   "display_name": "Python 3",
   "language": "python",
   "name": "python3"
  },
  "language_info": {
   "codemirror_mode": {
    "name": "ipython",
    "version": 3
   },
   "file_extension": ".py",
   "mimetype": "text/x-python",
   "name": "python",
   "nbconvert_exporter": "python",
   "pygments_lexer": "ipython3",
   "version": "3.8.3"
  }
 },
 "nbformat": 4,
 "nbformat_minor": 4
}
