{
 "cells": [
  {
   "cell_type": "code",
   "execution_count": 1,
   "metadata": {},
   "outputs": [
    {
     "name": "stdout",
     "output_type": "stream",
     "text": [
      "1 2\n",
      "1 2\n"
     ]
    }
   ],
   "source": [
    "n, m = map(int, input().split())\n",
    "print(n, m)"
   ]
  },
  {
   "cell_type": "code",
   "execution_count": 2,
   "metadata": {},
   "outputs": [],
   "source": [
    "# w=0, b=1\n",
    "line1 = [0, 1, 0, 1, 0, 1, 0, 1]\n",
    "line2 = [1, 0, 1, 0, 1, 0, 1, 0]"
   ]
  },
  {
   "cell_type": "code",
   "execution_count": 4,
   "metadata": {},
   "outputs": [
    {
     "name": "stdout",
     "output_type": "stream",
     "text": [
      "8 8\n",
      "WBWBWBWB\n",
      "BWBWBWBW\n",
      "WBWBWBWB\n",
      "BWBWBWBW\n",
      "WBWBWBWB\n",
      "BWBWBWBW\n",
      "WBWBWBWB\n",
      "BWBBBWBW\n",
      "1\n"
     ]
    }
   ],
   "source": [
    "n, m = map(int, input().split())\n",
    "\n",
    "line_inputs = [list(map(int, input().replace(\"W\",\"0\").replace(\"B\",\"1\"))) for _ in range(n)]\n",
    "line_sum = 0\n",
    "for line_input in line_inputs:\n",
    "    line_sum = line_sum + sum(line_input)\n",
    "print(abs(32-line_sum))"
   ]
  },
  {
   "cell_type": "code",
   "execution_count": 29,
   "metadata": {},
   "outputs": [
    {
     "name": "stdout",
     "output_type": "stream",
     "text": [
      "10 13\n",
      "BBBBBBBBWBWBW\n",
      "BBBBBBBBBWBWB\n",
      "BBBBBBBBWBWBW\n",
      "BBBBBBBBBWBWB\n",
      "BBBBBBBBWBWBW\n",
      "BBBBBBBBBWBWB\n",
      "BBBBBBBBWBWBW\n",
      "BBBBBBBBBWBWB\n",
      "WWWWWWWWWWBWB\n",
      "WWWWWWWWWWBWB\n",
      "5\n"
     ]
    }
   ],
   "source": [
    "n, m = map(int, input().split())\n",
    "\n",
    "first_map = [list(map(int, input().replace(\"W\",\"0\").replace(\"B\",\"1\"))) for _ in range(n)]\n",
    "line_sum = 0\n",
    "answer = 32\n",
    "\n",
    "for x in range(0, n-7):\n",
    "    for y in range(0, m-7):\n",
    "        ## 8*8 크기의 체스판으로 잘라내기\n",
    "        second_map = []\n",
    "        second_map.append(first_map[x][y:y+8])\n",
    "        second_map.append(first_map[x+1][y:y+8])\n",
    "        second_map.append(first_map[x+2][y:y+8])\n",
    "        second_map.append(first_map[x+3][y:y+8])\n",
    "        second_map.append(first_map[x+4][y:y+8])\n",
    "        second_map.append(first_map[x+5][y:y+8])\n",
    "        second_map.append(first_map[x+6][y:y+8])\n",
    "        second_map.append(first_map[x+7][y:y+8])\n",
    "        \n",
    "        ## 최솟값 구하기\n",
    "        for line in second_map:\n",
    "            line_sum = line_sum + sum(line)\n",
    "        new_answer = abs(32-line_sum)\n",
    "        if new_answer < answer:\n",
    "            answer = new_answer\n",
    "        \n",
    "        line_sum = 0\n",
    "        second_map.clear()\n",
    "\n",
    "print(answer)"
   ]
  },
  {
   "cell_type": "markdown",
   "metadata": {},
   "source": [
    "## 다른 사람 풀이"
   ]
  },
  {
   "cell_type": "code",
   "execution_count": 22,
   "metadata": {},
   "outputs": [
    {
     "name": "stdout",
     "output_type": "stream",
     "text": [
      "10 13\n",
      "BBBBBBBBWBWBW\n",
      "BBBBBBBBBWBWB\n",
      "BBBBBBBBWBWBW\n",
      "BBBBBBBBBWBWB\n",
      "BBBBBBBBWBWBW\n",
      "BBBBBBBBBWBWB\n",
      "BBBBBBBBWBWBW\n",
      "BBBBBBBBBWBWB\n",
      "WWWWWWWWWWBWB\n",
      "WWWWWWWWWWBWB\n",
      "12\n"
     ]
    }
   ],
   "source": [
    "## 입력값 받기\n",
    "N,M = map(int, input().split())\n",
    "first_map = [list(input()) for _ in range(N)]\n",
    "\n",
    "### 'W'로 시작하는 체스판\n",
    "start_w = [['W', 'B', 'W', 'B', 'W', 'B', 'W', 'B'],\n",
    " ['B', 'W', 'B', 'W', 'B', 'W', 'B', 'W'],\n",
    " ['W', 'B', 'W', 'B', 'W', 'B', 'W', 'B'],\n",
    " ['B', 'W', 'B', 'W', 'B', 'W', 'B', 'W'],\n",
    " ['W', 'B', 'W', 'B', 'W', 'B', 'W', 'B'],\n",
    " ['B', 'W', 'B', 'W', 'B', 'W', 'B', 'W'],\n",
    " ['W', 'B', 'W', 'B', 'W', 'B', 'W', 'B'],\n",
    " ['B', 'W', 'B', 'W', 'B', 'W', 'B', 'W']]\n",
    "\n",
    "## 'B'로 시작하는 체스판 \n",
    "start_b =[['B', 'W', 'B', 'W', 'B', 'W', 'B', 'W'],\n",
    " ['W', 'B', 'W', 'B', 'W', 'B', 'W', 'B'],\n",
    " ['B', 'W', 'B', 'W', 'B', 'W', 'B', 'W'],\n",
    " ['W', 'B', 'W', 'B', 'W', 'B', 'W', 'B'],\n",
    " ['B', 'W', 'B', 'W', 'B', 'W', 'B', 'W'],\n",
    " ['W', 'B', 'W', 'B', 'W', 'B', 'W', 'B'],\n",
    " ['B', 'W', 'B', 'W', 'B', 'W', 'B', 'W'],\n",
    " ['W', 'B', 'W', 'B', 'W', 'B', 'W', 'B']]\n",
    "\n",
    "## 현재 체스판을 얼마나 수정해줘야 하는가?\n",
    "def compare(start_w, start_b, map_x):\n",
    "    w_cnt = 0\n",
    "    b_cnt = 0\n",
    "    for i in range(8):\n",
    "        for j in range(8):\n",
    "            if start_w[i][j] != map_x[i][j]:\n",
    "                w_cnt = w_cnt + 1\n",
    "            if start_b[i][j] != map_x[i][j]:\n",
    "                b_cnt = b_cnt + 1\n",
    "    return min(w_cnt, b_cnt)\n",
    "\n",
    "min_answer = 64\n",
    "\n",
    "## x,y는 잘라내고자 하는 체스판의 첫 시작위치(맨 왼쪽, 맨 위)\n",
    "for x in range(0, N-7):\n",
    "    for y in range(0, M-7):\n",
    "        ## 8*8 크기의 체스판으로 잘라내기\n",
    "        second_map = []\n",
    "        second_map.append(first_map[x][y:y+8])\n",
    "        second_map.append(first_map[x+1][y:y+8])\n",
    "        second_map.append(first_map[x+2][y:y+8])\n",
    "        second_map.append(first_map[x+3][y:y+8])\n",
    "        second_map.append(first_map[x+4][y:y+8])\n",
    "        second_map.append(first_map[x+5][y:y+8])\n",
    "        second_map.append(first_map[x+6][y:y+8])\n",
    "        second_map.append(first_map[x+7][y:y+8])\n",
    "        \n",
    "        ## 최솟값 구하기\n",
    "        answer = compare(start_w, start_b, second_map)\n",
    "        if min_answer > answer:\n",
    "            min_answer = answer\n",
    "        \n",
    "        second_map.clear()\n",
    "        \n",
    "print(min_answer)"
   ]
  },
  {
   "cell_type": "markdown",
   "metadata": {},
   "source": [
    "## 다른 사람 풀이2"
   ]
  },
  {
   "cell_type": "code",
   "execution_count": null,
   "metadata": {},
   "outputs": [],
   "source": [
    "n, m = map(int, input().split())\n",
    "m_list = []\n",
    "for _ in range(n):\n",
    "    m_list.append(input())\n",
    "n_min = 64\n",
    "\n",
    "for i in range(n - 7):\n",
    "    for j in range(m - 7):\n",
    "        cnt1 = 0\n",
    "        cnt2 = 0\n",
    "        for k in range(i, i + 8):\n",
    "            for s in range(j, j + 8):\n",
    "                if k % 2 == 0 and s % 2 == 0:\n",
    "                    if m_list[k][s] == 'B':\n",
    "                        cnt1 += 1\n",
    "                elif k % 2 == 1 and s % 2 == 1:\n",
    "                    if m_list[k][s] == 'B':\n",
    "                        cnt1 += 1\n",
    "                elif k % 2 == 0 and s % 2 == 1:\n",
    "                    if m_list[k][s] == 'W':\n",
    "                        cnt1 += 1\n",
    "                elif k % 2 == 1 and s % 2 == 0:\n",
    "                    if m_list[k][s] == 'W':\n",
    "                        cnt1 += 1\n",
    "        for k in range(i, i + 8):\n",
    "            for s in range(j, j + 8):\n",
    "                if k % 2 == 0 and s % 2 == 0:\n",
    "                    if m_list[k][s] == 'W':\n",
    "                        cnt2 += 1\n",
    "                elif k % 2 == 1 and s % 2 == 1:\n",
    "                    if m_list[k][s] == 'W':\n",
    "                        cnt2 += 1\n",
    "                elif k % 2 == 0 and s % 2 == 1:\n",
    "                    if m_list[k][s] == 'B':\n",
    "                        cnt2 += 1\n",
    "                elif k % 2 == 1 and s % 2 == 0:\n",
    "                    if m_list[k][s] == 'B':\n",
    "                        cnt2 += 1\n",
    "        n_min = min(n_min, cnt1, cnt2)\n",
    "print(n_min)"
   ]
  }
 ],
 "metadata": {
  "kernelspec": {
   "display_name": "Python 3",
   "language": "python",
   "name": "python3"
  },
  "language_info": {
   "codemirror_mode": {
    "name": "ipython",
    "version": 3
   },
   "file_extension": ".py",
   "mimetype": "text/x-python",
   "name": "python",
   "nbconvert_exporter": "python",
   "pygments_lexer": "ipython3",
   "version": "3.8.3"
  }
 },
 "nbformat": 4,
 "nbformat_minor": 4
}
