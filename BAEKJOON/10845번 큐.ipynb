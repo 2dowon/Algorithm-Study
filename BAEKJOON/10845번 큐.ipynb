{
 "cells": [
  {
   "cell_type": "code",
   "execution_count": 5,
   "metadata": {},
   "outputs": [
    {
     "name": "stdout",
     "output_type": "stream",
     "text": [
      "15\n",
      "push 1\n",
      "push 2\n",
      "front\n",
      "1\n",
      "back\n",
      "2\n",
      "size\n",
      "2\n",
      "empty\n",
      "0\n",
      "pop\n",
      "1\n",
      "pop\n",
      "2\n",
      "pop\n",
      "-1\n",
      "size\n",
      "0\n",
      "empty\n",
      "1\n",
      "pop\n",
      "-1\n",
      "push 3\n",
      "empty\n",
      "0\n",
      "front\n",
      "3\n"
     ]
    }
   ],
   "source": [
    "from collections import deque\n",
    "import sys\n",
    "\n",
    "queue = deque([])\n",
    "n = int(sys.stdin.readline())\n",
    "for _ in range(n):\n",
    "    x = sys.stdin.readline().split()\n",
    "    \n",
    "    if x[0] == \"push\":\n",
    "        queue.append(x[1])\n",
    "    elif x[0] == \"pop\":\n",
    "        if len(queue) == 0:\n",
    "            print(-1)\n",
    "        else:\n",
    "            print(queue.popleft())\n",
    "    elif x[0] == \"size\":\n",
    "        print(len(queue))\n",
    "    elif x[0] == \"empty\":\n",
    "        if len(queue) == 0:\n",
    "            print(1)\n",
    "        else:\n",
    "            print(0)\n",
    "    elif x[0] == \"front\":\n",
    "        if len(queue) == 0:\n",
    "            print(-1)\n",
    "        else:\n",
    "            print(queue[0])\n",
    "    elif x[0] == \"back\":\n",
    "        if len(queue) == 0:\n",
    "            print(-1)\n",
    "        else:\n",
    "            print(queue[-1])"
   ]
  },
  {
   "cell_type": "code",
   "execution_count": null,
   "metadata": {},
   "outputs": [],
   "source": []
  }
 ],
 "metadata": {
  "kernelspec": {
   "display_name": "Python 3",
   "language": "python",
   "name": "python3"
  },
  "language_info": {
   "codemirror_mode": {
    "name": "ipython",
    "version": 3
   },
   "file_extension": ".py",
   "mimetype": "text/x-python",
   "name": "python",
   "nbconvert_exporter": "python",
   "pygments_lexer": "ipython3",
   "version": "3.8.3"
  }
 },
 "nbformat": 4,
 "nbformat_minor": 4
}
