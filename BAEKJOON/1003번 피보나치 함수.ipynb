{
 "cells": [
  {
   "cell_type": "markdown",
   "metadata": {},
   "source": [
    "## 재귀함수 => 시간 초과"
   ]
  },
  {
   "cell_type": "code",
   "execution_count": 22,
   "metadata": {},
   "outputs": [
    {
     "name": "stdout",
     "output_type": "stream",
     "text": [
      "1\n",
      "6\n",
      "5 8\n"
     ]
    }
   ],
   "source": [
    "t = int(input())\n",
    "\n",
    "def fibonacci(n):\n",
    "    if n == 0:\n",
    "        fibo_list[0] = fibo_list[0] + 1\n",
    "        return 0\n",
    "    elif n ==1:\n",
    "        fibo_list[1] = fibo_list[1] + 1\n",
    "        return 1\n",
    "    else:\n",
    "        return fibonacci(n-1) + fibonacci(n-2)\n",
    "\n",
    "for _ in range(t):\n",
    "    n = int(input())\n",
    "    fibo_list = [0, 0]\n",
    "\n",
    "    fibonacci(n)\n",
    "    print(fibo_list[0], fibo_list[1])"
   ]
  },
  {
   "cell_type": "markdown",
   "metadata": {},
   "source": [
    "## 메모제이션 => 시간복잡도 O(N) (시간 초과 없이 통과)"
   ]
  },
  {
   "cell_type": "code",
   "execution_count": 26,
   "metadata": {},
   "outputs": [
    {
     "name": "stdout",
     "output_type": "stream",
     "text": [
      "2\n",
      "39\n",
      "39088169 63245986\n",
      "40\n",
      "63245986 102334155\n"
     ]
    }
   ],
   "source": [
    "t = int(input())\n",
    "\n",
    "d = [0]*50\n",
    "def fibonacci(n):\n",
    "    if n == 0:\n",
    "        return 0\n",
    "    elif n == 1 or n == 2:\n",
    "        return 1\n",
    "    if d[n] != 0:\n",
    "        return d[n]\n",
    "    d[n] = fibonacci(n-1) + fibonacci(n-2)\n",
    "    return d[n]\n",
    "\n",
    "for _ in range(t):\n",
    "    n = int(input())\n",
    "    count_one = fibonacci(n)\n",
    "    count_zero = fibonacci(n+1) - count_one\n",
    "    print(count_zero, count_one)"
   ]
  },
  {
   "cell_type": "code",
   "execution_count": null,
   "metadata": {},
   "outputs": [],
   "source": []
  }
 ],
 "metadata": {
  "kernelspec": {
   "display_name": "Python 3",
   "language": "python",
   "name": "python3"
  },
  "language_info": {
   "codemirror_mode": {
    "name": "ipython",
    "version": 3
   },
   "file_extension": ".py",
   "mimetype": "text/x-python",
   "name": "python",
   "nbconvert_exporter": "python",
   "pygments_lexer": "ipython3",
   "version": "3.8.3"
  }
 },
 "nbformat": 4,
 "nbformat_minor": 4
}
