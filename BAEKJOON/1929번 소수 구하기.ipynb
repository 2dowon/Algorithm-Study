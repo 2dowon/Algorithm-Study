{
 "cells": [
  {
   "cell_type": "markdown",
   "metadata": {},
   "source": [
    "## 시간 초과"
   ]
  },
  {
   "cell_type": "code",
   "execution_count": 64,
   "metadata": {},
   "outputs": [
    {
     "name": "stdout",
     "output_type": "stream",
     "text": [
      "1 16\n",
      "2\n",
      "3\n",
      "5\n",
      "7\n",
      "11\n",
      "13\n"
     ]
    }
   ],
   "source": [
    "M,N = map(int, input().split())\n",
    "\n",
    "for i in range(M, N+1):\n",
    "    if i == 2:\n",
    "        print(i)\n",
    "    for j in range(2, i):\n",
    "        if i % j == 0:\n",
    "            break\n",
    "        if j == i-1:\n",
    "            print(i)"
   ]
  },
  {
   "cell_type": "markdown",
   "metadata": {},
   "source": [
    "## 제곱근 활용 => => 시간초과 없이 통과 (하지만 매우 느림)"
   ]
  },
  {
   "cell_type": "code",
   "execution_count": 61,
   "metadata": {},
   "outputs": [
    {
     "name": "stdout",
     "output_type": "stream",
     "text": [
      "1 16\n",
      "2\n",
      "3\n",
      "5\n",
      "7\n",
      "11\n",
      "13\n"
     ]
    }
   ],
   "source": [
    "# 제곱근까지만 보고 소수를 판별하는 함수\n",
    "def is_prime_number(x):\n",
    "    # 2부터 x의 제곱근까지의 모든 수를 확인하며\n",
    "    if x == 1:\n",
    "        return False\n",
    "    else:\n",
    "        for i in range(2, int(x**0.5)+1):\n",
    "        # x가 해당 수로 나누어 떨어진다면\n",
    "            if x % i == 0:\n",
    "                return False\n",
    "        return True\n",
    "\n",
    "M,N = map(int, input().split())\n",
    "\n",
    "for i in range(M, N+1):\n",
    "    if is_prime_number(i):\n",
    "        print(i)"
   ]
  },
  {
   "cell_type": "markdown",
   "metadata": {},
   "source": [
    "## 에라토스테네스의 체 => 시간초과 없이 통과"
   ]
  },
  {
   "cell_type": "code",
   "execution_count": 62,
   "metadata": {},
   "outputs": [
    {
     "name": "stdout",
     "output_type": "stream",
     "text": [
      "1 16\n",
      "2\n",
      "3\n",
      "5\n",
      "7\n",
      "11\n",
      "13\n"
     ]
    }
   ],
   "source": [
    "# 소수 판별 함수(에라토스테네스의 체)\n",
    "def is_prime_number(M, N):\n",
    "    array = [False, False] + [True] * (N-1) # 처음엔 모든 수가 소수(True)인 것으로 초기화\n",
    "\n",
    "    # 에라토스테네스의 체\n",
    "    for i in range(2, int(N**0.5) + 1): #2부터 N의 제곱근까지의 모든 수를 확인하며\n",
    "        if array[i]: # i가 소수인 경우(남은 수인 경우)\n",
    "            # i를 제외한 i의 모든 배수를 지우기\n",
    "            j = 2\n",
    "            while i * j <= N:\n",
    "                array[i * j] = False\n",
    "                j += 1\n",
    "\n",
    "    for i in range(M, N+1):\n",
    "        if array[i]:\n",
    "            print(i)\n",
    "\n",
    "# N이 1,000,000 이내로 주어지는 경우 활용할 것\n",
    "M,N = map(int, input().split())\n",
    "is_prime_number(M, N)"
   ]
  },
  {
   "cell_type": "code",
   "execution_count": null,
   "metadata": {},
   "outputs": [],
   "source": []
  }
 ],
 "metadata": {
  "kernelspec": {
   "display_name": "Python 3",
   "language": "python",
   "name": "python3"
  },
  "language_info": {
   "codemirror_mode": {
    "name": "ipython",
    "version": 3
   },
   "file_extension": ".py",
   "mimetype": "text/x-python",
   "name": "python",
   "nbconvert_exporter": "python",
   "pygments_lexer": "ipython3",
   "version": "3.8.3"
  }
 },
 "nbformat": 4,
 "nbformat_minor": 4
}
