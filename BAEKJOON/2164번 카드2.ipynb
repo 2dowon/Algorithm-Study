{
 "cells": [
  {
   "cell_type": "markdown",
   "metadata": {},
   "source": [
    "## 시간 초과"
   ]
  },
  {
   "cell_type": "code",
   "execution_count": 26,
   "metadata": {},
   "outputs": [
    {
     "name": "stdout",
     "output_type": "stream",
     "text": [
      "6\n",
      "4\n"
     ]
    }
   ],
   "source": [
    "n = int(input())\n",
    "n_list = [i for i in range(1,n+1)]\n",
    "\n",
    "while len(n_list) > 1:\n",
    "    del n_list[0]\n",
    "    n_list.append(n_list.pop(0))\n",
    "print(n_list[0])"
   ]
  },
  {
   "cell_type": "code",
   "execution_count": 25,
   "metadata": {},
   "outputs": [
    {
     "name": "stdout",
     "output_type": "stream",
     "text": [
      "6\n",
      "[2, 6, 5, 4, 3]\n",
      "[4, 2, 6, 5]\n",
      "[6, 4, 2]\n",
      "[4, 6]\n",
      "[4]\n",
      "4\n"
     ]
    }
   ],
   "source": [
    "n = int(input())\n",
    "n_list = [i for i in range(1,n+1)]\n",
    "n_list.reverse()\n",
    "\n",
    "while len(n_list) > 1:\n",
    "    n_list.pop()\n",
    "    n_list.insert(0, n_list.pop())\n",
    "print(n_list[0])"
   ]
  },
  {
   "cell_type": "markdown",
   "metadata": {},
   "source": [
    "## deque를 이용해 시간초과 없이 통과"
   ]
  },
  {
   "cell_type": "code",
   "execution_count": 45,
   "metadata": {},
   "outputs": [
    {
     "name": "stdout",
     "output_type": "stream",
     "text": [
      "4\n",
      "4\n"
     ]
    }
   ],
   "source": [
    "from collections import deque\n",
    "\n",
    "n = int(input())\n",
    "n_deque = deque([i for i in range(1,n+1)])\n",
    "\n",
    "while len(n_deque) > 1:\n",
    "    n_deque.popleft()\n",
    "    n_deque.append(n_deque.popleft())\n",
    "print(n_deque[0])"
   ]
  },
  {
   "cell_type": "code",
   "execution_count": null,
   "metadata": {},
   "outputs": [],
   "source": []
  }
 ],
 "metadata": {
  "kernelspec": {
   "display_name": "Python 3",
   "language": "python",
   "name": "python3"
  },
  "language_info": {
   "codemirror_mode": {
    "name": "ipython",
    "version": 3
   },
   "file_extension": ".py",
   "mimetype": "text/x-python",
   "name": "python",
   "nbconvert_exporter": "python",
   "pygments_lexer": "ipython3",
   "version": "3.8.3"
  }
 },
 "nbformat": 4,
 "nbformat_minor": 4
}
