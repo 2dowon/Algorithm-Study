{
 "cells": [
  {
   "cell_type": "markdown",
   "metadata": {},
   "source": [
    "### import sys까지 적용했으나 여전히 시간초과"
   ]
  },
  {
   "cell_type": "code",
   "execution_count": 19,
   "metadata": {},
   "outputs": [
    {
     "name": "stdout",
     "output_type": "stream",
     "text": [
      "6\n",
      "1\n",
      "2\n",
      "3\n",
      "4\n",
      "5\n",
      "6\n",
      "+\n",
      "-\n",
      "+\n",
      "-\n",
      "+\n",
      "-\n",
      "+\n",
      "-\n",
      "+\n",
      "-\n",
      "+\n",
      "-\n"
     ]
    }
   ],
   "source": [
    "n = int(input())\n",
    "n_list = [int(input()) for _ in range(n)]\n",
    "\n",
    "stack = list(range(1,n_list[0]+1))\n",
    "stack_list = []\n",
    "stack_list.append(stack.pop())\n",
    "answer_list = [\"+\"] * n_list[0] + [\"-\"]\n",
    "\n",
    "for i in range(len(n_list)-1):\n",
    "    if n_list[i] < n_list[i+1]:\n",
    "        for j in range(max(stack_list)+1, n_list[i+1]+1):\n",
    "            stack.append(j)\n",
    "            answer_list.append(\"+\")\n",
    "    stack_list.append(stack.pop())\n",
    "    answer_list.append(\"-\")\n",
    "\n",
    "if n_list == stack_list:\n",
    "    for answer in answer_list:\n",
    "        print(answer)\n",
    "else:\n",
    "    print(\"NO\")"
   ]
  },
  {
   "cell_type": "code",
   "execution_count": 20,
   "metadata": {},
   "outputs": [
    {
     "ename": "ValueError",
     "evalue": "invalid literal for int() with base 10: ''",
     "output_type": "error",
     "traceback": [
      "\u001b[0;31m---------------------------------------------------------------------------\u001b[0m",
      "\u001b[0;31mValueError\u001b[0m                                Traceback (most recent call last)",
      "\u001b[0;32m<ipython-input-20-956d56cc36b1>\u001b[0m in \u001b[0;36m<module>\u001b[0;34m\u001b[0m\n\u001b[1;32m      1\u001b[0m \u001b[0;32mimport\u001b[0m \u001b[0msys\u001b[0m\u001b[0;34m\u001b[0m\u001b[0;34m\u001b[0m\u001b[0m\n\u001b[1;32m      2\u001b[0m \u001b[0;34m\u001b[0m\u001b[0m\n\u001b[0;32m----> 3\u001b[0;31m \u001b[0mn\u001b[0m \u001b[0;34m=\u001b[0m \u001b[0mint\u001b[0m\u001b[0;34m(\u001b[0m\u001b[0msys\u001b[0m\u001b[0;34m.\u001b[0m\u001b[0mstdin\u001b[0m\u001b[0;34m.\u001b[0m\u001b[0mreadline\u001b[0m\u001b[0;34m(\u001b[0m\u001b[0;34m)\u001b[0m\u001b[0;34m)\u001b[0m\u001b[0;34m\u001b[0m\u001b[0;34m\u001b[0m\u001b[0m\n\u001b[0m\u001b[1;32m      4\u001b[0m \u001b[0mn_list\u001b[0m \u001b[0;34m=\u001b[0m \u001b[0;34m[\u001b[0m\u001b[0mint\u001b[0m\u001b[0;34m(\u001b[0m\u001b[0msys\u001b[0m\u001b[0;34m.\u001b[0m\u001b[0mstdin\u001b[0m\u001b[0;34m.\u001b[0m\u001b[0mreadline\u001b[0m\u001b[0;34m(\u001b[0m\u001b[0;34m)\u001b[0m\u001b[0;34m)\u001b[0m \u001b[0;32mfor\u001b[0m \u001b[0m_\u001b[0m \u001b[0;32min\u001b[0m \u001b[0mrange\u001b[0m\u001b[0;34m(\u001b[0m\u001b[0mn\u001b[0m\u001b[0;34m)\u001b[0m\u001b[0;34m]\u001b[0m\u001b[0;34m\u001b[0m\u001b[0;34m\u001b[0m\u001b[0m\n\u001b[1;32m      5\u001b[0m \u001b[0;34m\u001b[0m\u001b[0m\n",
      "\u001b[0;31mValueError\u001b[0m: invalid literal for int() with base 10: ''"
     ]
    }
   ],
   "source": [
    "import sys\n",
    "\n",
    "n = int(sys.stdin.readline())\n",
    "n_list = [int(sys.stdin.readline()) for _ in range(n)]\n",
    "\n",
    "stack = list(range(1,n_list[0]+1))\n",
    "stack_list = []\n",
    "stack_list.append(stack.pop())\n",
    "answer_list = [\"+\"] * n_list[0] + [\"-\"]\n",
    "\n",
    "for i in range(len(n_list)-1):\n",
    "    if n_list[i] < n_list[i+1]:\n",
    "        for j in range(max(stack_list)+1, n_list[i+1]+1):\n",
    "            stack.append(j)\n",
    "            answer_list.append(\"+\")\n",
    "    stack_list.append(stack.pop())\n",
    "    answer_list.append(\"-\")\n",
    "\n",
    "if n_list == stack_list:\n",
    "    for answer in answer_list:\n",
    "        print(answer)\n",
    "else:\n",
    "    print(\"NO\")"
   ]
  },
  {
   "cell_type": "markdown",
   "metadata": {},
   "source": [
    "## 다른 사람 풀이"
   ]
  },
  {
   "cell_type": "code",
   "execution_count": 24,
   "metadata": {},
   "outputs": [
    {
     "name": "stdout",
     "output_type": "stream",
     "text": [
      "8\n",
      "4\n",
      "3\n",
      "6\n",
      "8\n",
      "7\n",
      "5\n",
      "2\n",
      "1\n",
      "+\n",
      "+\n",
      "+\n",
      "+\n",
      "-\n",
      "-\n",
      "+\n",
      "+\n",
      "-\n",
      "+\n",
      "+\n",
      "-\n",
      "-\n",
      "-\n",
      "-\n",
      "-\n"
     ]
    }
   ],
   "source": [
    "n = int(input())\n",
    "s = []\n",
    "op = []\n",
    "count = 1\n",
    "temp = True\n",
    "for i in range(n):\n",
    "    num = int(input())\n",
    "    while count <= num:\n",
    "        s.append(count)\n",
    "        op.append('+')\n",
    "        count += 1\n",
    "    if s[-1] == num:\n",
    "        s.pop()\n",
    "        op.append('-')\n",
    "    else:\n",
    "        temp = False\n",
    "if temp == False:\n",
    "    print('NO')\n",
    "else:\n",
    "    for i in op:\n",
    "        print(i)"
   ]
  },
  {
   "cell_type": "code",
   "execution_count": null,
   "metadata": {},
   "outputs": [],
   "source": []
  }
 ],
 "metadata": {
  "kernelspec": {
   "display_name": "Python 3",
   "language": "python",
   "name": "python3"
  },
  "language_info": {
   "codemirror_mode": {
    "name": "ipython",
    "version": 3
   },
   "file_extension": ".py",
   "mimetype": "text/x-python",
   "name": "python",
   "nbconvert_exporter": "python",
   "pygments_lexer": "ipython3",
   "version": "3.8.3"
  }
 },
 "nbformat": 4,
 "nbformat_minor": 4
}
