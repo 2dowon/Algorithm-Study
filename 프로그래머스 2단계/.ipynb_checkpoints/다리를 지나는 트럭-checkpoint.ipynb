{
 "cells": [
  {
   "cell_type": "markdown",
   "metadata": {},
   "source": [
    "## 내 풀이"
   ]
  },
  {
   "cell_type": "markdown",
   "metadata": {},
   "source": [
    "### 케이스 1,2는 통과하는데 케이스3은 안됨\n",
    "### 중간에 count=0을 하면서 문제가 생기는 것 같은데 잘 모르겠음"
   ]
  },
  {
   "cell_type": "code",
   "execution_count": 63,
   "metadata": {},
   "outputs": [
    {
     "data": {
      "text/plain": [
       "101"
      ]
     },
     "execution_count": 63,
     "metadata": {},
     "output_type": "execute_result"
    }
   ],
   "source": [
    "def solution(bridge_length, weight, truck_weights):\n",
    "    answer = 1\n",
    "    count = 0\n",
    "    end_num = len(truck_weights)\n",
    "    end_list = []\n",
    "    ing_list = []\n",
    "        \n",
    "    ing_list.append(truck_weights.pop(0))\n",
    "    \n",
    "    while len(end_list) != end_num :\n",
    "        count = count + 1\n",
    "        answer = answer + 1\n",
    "\n",
    "        if count == bridge_length :\n",
    "            end_list.append(ing_list.pop(0))\n",
    "            count = 0\n",
    "            if len(ing_list) > 0:\n",
    "                count = count + 1\n",
    "                if ing_list[0] + truck_weights[0]  < weight :\n",
    "                    ing_list.append(truck_weights.pop(0))\n",
    "            elif len(ing_list) == 0 :\n",
    "                if len(truck_weights) > 0:\n",
    "                    ing_list.append(truck_weights.pop(0))\n",
    "                else:\n",
    "                    break\n",
    "\n",
    "        else:\n",
    "            if len(truck_weights) > 0:\n",
    "                if ing_list[0] + truck_weights[0]  < weight :\n",
    "                    ing_list.append(truck_weights.pop(0))\n",
    "    \n",
    "    return answer\n",
    "\n",
    "\n",
    "truck_weights = [10]\n",
    "solution(100, 100, truck_weights)"
   ]
  },
  {
   "cell_type": "code",
   "execution_count": 61,
   "metadata": {},
   "outputs": [
    {
     "data": {
      "text/plain": [
       "8"
      ]
     },
     "execution_count": 61,
     "metadata": {},
     "output_type": "execute_result"
    }
   ],
   "source": [
    "def solution(bridge_length, weight, truck_weights):\n",
    "    answer = 1\n",
    "    count = 0\n",
    "    end_num = len(truck_weights)\n",
    "    end_list = []\n",
    "    ing_list = []\n",
    "        \n",
    "    ing_list.append(truck_weights.pop(0))\n",
    "    \n",
    "    while len(end_list) != end_num :\n",
    "        count = count + 1\n",
    "        answer = answer + 1\n",
    "\n",
    "        if count == bridge_length :\n",
    "            end_list.append(ing_list.pop(0))\n",
    "            count = 0\n",
    "            if len(ing_list) > 0:\n",
    "                count = count + 1\n",
    "                if ing_list[0] + truck_weights[0]  < weight :\n",
    "                    ing_list.append(truck_weights.pop(0))\n",
    "            elif len(ing_list) == 0 :\n",
    "                if len(truck_weights) > 0:\n",
    "                    ing_list.append(truck_weights.pop(0))\n",
    "                else:\n",
    "                    break\n",
    "\n",
    "        else:\n",
    "            if len(truck_weights) > 0:\n",
    "                if ing_list[0] + truck_weights[0]  < weight :\n",
    "                    ing_list.append(truck_weights.pop(0))\n",
    "    \n",
    "    return answer\n",
    "\n",
    "\n",
    "truck_weights = [7,4,5,6]\n",
    "solution(2, 10, truck_weights)"
   ]
  },
  {
   "cell_type": "markdown",
   "metadata": {},
   "source": [
    "## 다른 사람 풀이"
   ]
  },
  {
   "cell_type": "code",
   "execution_count": 68,
   "metadata": {},
   "outputs": [
    {
     "data": {
      "text/plain": [
       "8"
      ]
     },
     "execution_count": 68,
     "metadata": {},
     "output_type": "execute_result"
    }
   ],
   "source": [
    "def solution(bridge_length, weight, truck_weights):\n",
    "    q = [0] * bridge_length\n",
    "    sec = 0\n",
    "    while q:\n",
    "        sec = sec + 1\n",
    "        q.pop(0)\n",
    "        if truck_weights:\n",
    "            if sum(q) + truck_weights[0] <= weight:\n",
    "                q.append(truck_weights.pop(0))\n",
    "            else:\n",
    "                q.append(0)\n",
    "    return sec\n",
    "\n",
    "truck_weights = [7,4,5,6]\n",
    "solution(2, 10, truck_weights)"
   ]
  },
  {
   "cell_type": "code",
   "execution_count": 66,
   "metadata": {},
   "outputs": [
    {
     "name": "stdout",
     "output_type": "stream",
     "text": [
      "8 8\n",
      "101 101\n",
      "110 110\n"
     ]
    },
    {
     "data": {
      "text/plain": [
       "8"
      ]
     },
     "execution_count": 66,
     "metadata": {},
     "output_type": "execute_result"
    }
   ],
   "source": [
    "import collections\n",
    "\n",
    "DUMMY_TRUCK = 0\n",
    "\n",
    "\n",
    "class Bridge(object):\n",
    "\n",
    "    def __init__(self, length, weight):\n",
    "        self._max_length = length\n",
    "        self._max_weight = weight\n",
    "        self._queue = collections.deque()\n",
    "        self._current_weight = 0\n",
    "\n",
    "    def push(self, truck):\n",
    "        next_weight = self._current_weight + truck\n",
    "        if next_weight <= self._max_weight and len(self._queue) < self._max_length:\n",
    "            self._queue.append(truck)\n",
    "            self._current_weight = next_weight\n",
    "            return True\n",
    "        else:\n",
    "            return False\n",
    "\n",
    "    def pop(self):\n",
    "        item = self._queue.popleft()\n",
    "        self._current_weight -= item\n",
    "        return item\n",
    "\n",
    "    def __len__(self):\n",
    "        return len(self._queue)\n",
    "\n",
    "    def __repr__(self):\n",
    "        return 'Bridge({}/{} : [{}])'.format(self._current_weight, self._max_weight, list(self._queue))\n",
    "\n",
    "\n",
    "def solution(bridge_length, weight, truck_weights):\n",
    "    bridge = Bridge(bridge_length, weight)\n",
    "    trucks = collections.deque(w for w in truck_weights)\n",
    "\n",
    "    for _ in range(bridge_length):\n",
    "        bridge.push(DUMMY_TRUCK)\n",
    "\n",
    "    count = 0\n",
    "    while trucks:\n",
    "        bridge.pop()\n",
    "\n",
    "        if bridge.push(trucks[0]):\n",
    "            trucks.popleft()\n",
    "        else:\n",
    "            bridge.push(DUMMY_TRUCK)\n",
    "\n",
    "        count += 1\n",
    "\n",
    "    while bridge:\n",
    "        bridge.pop()\n",
    "        count += 1\n",
    "\n",
    "    return count\n",
    "\n",
    "\n",
    "def main():\n",
    "    print(solution(2, 10, [7, 4, 5, 6]), 8)\n",
    "    print(solution(100, 100, [10]), 101)\n",
    "    print(solution(100, 100, [10, 10, 10, 10, 10, 10, 10, 10, 10, 10]), 110)\n",
    "\n",
    "\n",
    "if __name__ == '__main__':\n",
    "    main()\n",
    "    \n",
    "truck_weights = [7,4,5,6]\n",
    "solution(2, 10, truck_weights)"
   ]
  },
  {
   "cell_type": "code",
   "execution_count": null,
   "metadata": {},
   "outputs": [],
   "source": []
  }
 ],
 "metadata": {
  "kernelspec": {
   "display_name": "Python 3",
   "language": "python",
   "name": "python3"
  },
  "language_info": {
   "codemirror_mode": {
    "name": "ipython",
    "version": 3
   },
   "file_extension": ".py",
   "mimetype": "text/x-python",
   "name": "python",
   "nbconvert_exporter": "python",
   "pygments_lexer": "ipython3",
   "version": "3.8.3"
  }
 },
 "nbformat": 4,
 "nbformat_minor": 4
}
