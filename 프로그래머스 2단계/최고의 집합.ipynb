{
 "cells": [
  {
   "cell_type": "markdown",
   "metadata": {},
   "source": [
    "## 내 풀이"
   ]
  },
  {
   "cell_type": "markdown",
   "metadata": {},
   "source": [
    "### 테스트케이스는 통과하는데, 실제 제출은 통과하지 못함"
   ]
  },
  {
   "cell_type": "code",
   "execution_count": 8,
   "metadata": {},
   "outputs": [
    {
     "name": "stdout",
     "output_type": "stream",
     "text": [
      "[4, 5]\n",
      "[-1]\n",
      "[3, 6, 6]\n"
     ]
    }
   ],
   "source": [
    "def solution(n, s):\n",
    "    answer = []\n",
    "    count = 1\n",
    "    \n",
    "    if n > s :\n",
    "        answer = [-1]\n",
    "    else :\n",
    "        answer.append(s//n)\n",
    "        while count != n:\n",
    "            count = count + 1\n",
    "            answer.append(s - (s//n))\n",
    "            \n",
    "    answer.sort()\n",
    "    \n",
    "    return answer\n",
    "\n",
    "print(solution(2, 9))\n",
    "print(solution(2, 1))\n",
    "print(solution(3, 9))"
   ]
  },
  {
   "cell_type": "markdown",
   "metadata": {},
   "source": [
    "### 위 코드에서 (3,9) 일때 답이 틀려서 이를 해결했으나 여전히 통과가 안됨"
   ]
  },
  {
   "cell_type": "code",
   "execution_count": 41,
   "metadata": {},
   "outputs": [
    {
     "name": "stdout",
     "output_type": "stream",
     "text": [
      "[4, 5]\n",
      "[-1]\n",
      "[3, 3, 3]\n",
      "[39, 39, 39, 39, 43]\n"
     ]
    }
   ],
   "source": [
    "def solution(n, s):\n",
    "    answer = []\n",
    "    count = 1\n",
    "    \n",
    "    if n > s :\n",
    "        answer = [-1]\n",
    "    else :\n",
    "        while count != n:\n",
    "            count = count + 1\n",
    "            answer.append(s//n)\n",
    "        answer.append(s - sum(answer))\n",
    "            \n",
    "    answer.sort()\n",
    "    \n",
    "    return answer\n",
    "\n",
    "print(solution(2, 9))\n",
    "print(solution(2, 1))\n",
    "print(solution(3, 9))\n",
    "print(solution(5, 199))"
   ]
  },
  {
   "cell_type": "markdown",
   "metadata": {},
   "source": [
    "### 분산이 가장 적은 경우, 즉 숫자가 가장 몰려 있는 경우가 곱했을 때 가장 수가 큰데 위 풀이의 경우 (5, 199) 처럼 몫을 여러 개를 반환했기 때문에 [39, 40, 40, 40, 40] 가 아닌 [39, 39, 39, 39, 43]가 반환되는 문제가 발생 "
   ]
  },
  {
   "cell_type": "markdown",
   "metadata": {},
   "source": [
    "### 이 문제를 해결하기 위해 나머지의 개수만큼은 몫 + 1을 해야 한다"
   ]
  },
  {
   "cell_type": "code",
   "execution_count": 38,
   "metadata": {},
   "outputs": [
    {
     "name": "stdout",
     "output_type": "stream",
     "text": [
      "[4, 5]\n",
      "[1, 1, 1]\n",
      "[39, 40, 40, 40, 40]\n"
     ]
    }
   ],
   "source": [
    "def solution(n, s):\n",
    "    answer = []\n",
    "    \n",
    "    if n > s :\n",
    "        answer = [-1]\n",
    "    else :\n",
    "        answer = ((n - (s % n)) * [s//n]) + ((s % n) * [s//n + 1])\n",
    "                \n",
    "    return answer\n",
    "\n",
    "print(solution(2, 9))\n",
    "print(solution(3, 3))\n",
    "print(solution(5, 199))"
   ]
  },
  {
   "cell_type": "markdown",
   "metadata": {},
   "source": [
    "## 다른 사람 풀이"
   ]
  },
  {
   "cell_type": "code",
   "execution_count": 40,
   "metadata": {},
   "outputs": [
    {
     "name": "stdout",
     "output_type": "stream",
     "text": [
      "[4, 5]\n",
      "[-1]\n",
      "[1, 1, 1]\n"
     ]
    }
   ],
   "source": [
    "def solution(n, s):\n",
    "    return (n - s%n) * [s//n] + s%n * [s//n+1] if s//n != 0 else [-1]\n",
    "\n",
    "print(solution(2, 9))\n",
    "print(solution(2, 1))\n",
    "print(solution(3, 3))"
   ]
  },
  {
   "cell_type": "code",
   "execution_count": null,
   "metadata": {},
   "outputs": [],
   "source": []
  }
 ],
 "metadata": {
  "kernelspec": {
   "display_name": "Python 3",
   "language": "python",
   "name": "python3"
  },
  "language_info": {
   "codemirror_mode": {
    "name": "ipython",
    "version": 3
   },
   "file_extension": ".py",
   "mimetype": "text/x-python",
   "name": "python",
   "nbconvert_exporter": "python",
   "pygments_lexer": "ipython3",
   "version": "3.8.3"
  }
 },
 "nbformat": 4,
 "nbformat_minor": 4
}
