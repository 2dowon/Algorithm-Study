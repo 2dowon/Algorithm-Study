{
 "cells": [
  {
   "cell_type": "markdown",
   "metadata": {},
   "source": [
    "## 내 풀이"
   ]
  },
  {
   "cell_type": "markdown",
   "metadata": {},
   "source": [
    "### 테스트 케이스는 통과하는데 그 외 정확도가 떨어지는 풀이"
   ]
  },
  {
   "cell_type": "code",
   "execution_count": 19,
   "metadata": {},
   "outputs": [
    {
     "data": {
      "text/plain": [
       "2"
      ]
     },
     "execution_count": 19,
     "metadata": {},
     "output_type": "execute_result"
    }
   ],
   "source": [
    "def solution(n, computers):\n",
    "    answer = 0\n",
    "    x = sum(sum(computers, [])) # 리스트의 모든 요소들을 더하기\n",
    "    \n",
    "    for i in range(1,n):\n",
    "        if x >= n*(n-i):\n",
    "            answer = i\n",
    "            break\n",
    "    \n",
    "    if x == n :\n",
    "        answer = n\n",
    "    \n",
    "    return answer\n",
    "\n",
    "computers = [[1, 1, 0], [1, 1, 0], [0, 0, 1]]\n",
    "solution(3, computers)"
   ]
  },
  {
   "cell_type": "markdown",
   "metadata": {},
   "source": [
    "## 다른 사람 풀이"
   ]
  },
  {
   "cell_type": "markdown",
   "metadata": {},
   "source": [
    "### DFS(깊이 우선 탐색) 공부해보기"
   ]
  },
  {
   "cell_type": "code",
   "execution_count": 20,
   "metadata": {},
   "outputs": [
    {
     "data": {
      "text/plain": [
       "2"
      ]
     },
     "execution_count": 20,
     "metadata": {},
     "output_type": "execute_result"
    }
   ],
   "source": [
    "def solution(n, computers):\n",
    "    answer = 0\n",
    "    visited = [0 for i in range(n)]\n",
    "    def dfs(computers, visited, start):\n",
    "        stack = [start]\n",
    "        while stack:\n",
    "            j = stack.pop()\n",
    "            if visited[j] == 0:\n",
    "                visited[j] = 1\n",
    "            # for i in range(len(computers)-1, -1, -1):\n",
    "            for i in range(0, len(computers)):\n",
    "                if computers[j][i] ==1 and visited[i] == 0:\n",
    "                    stack.append(i)\n",
    "    i=0\n",
    "    while 0 in visited:\n",
    "        if visited[i] ==0:\n",
    "            dfs(computers, visited, i)\n",
    "            answer +=1\n",
    "        i+=1\n",
    "    return answer\n",
    "\n",
    "computers = [[1, 1, 0], [1, 1, 0], [0, 0, 1]]\n",
    "solution(3, computers)"
   ]
  },
  {
   "cell_type": "markdown",
   "metadata": {},
   "source": [
    "### BFS를 이용한 풀이"
   ]
  },
  {
   "cell_type": "code",
   "execution_count": 21,
   "metadata": {},
   "outputs": [
    {
     "data": {
      "text/plain": [
       "2"
      ]
     },
     "execution_count": 21,
     "metadata": {},
     "output_type": "execute_result"
    }
   ],
   "source": [
    "def solution(n, computers):    \n",
    "    def BFS(node, visit):\n",
    "        que = [node]\n",
    "        visit[node] = 1\n",
    "        while que:\n",
    "            v = que.pop(0)\n",
    "            for i in range(n):\n",
    "                if computers[v][i] == 1 and visit[i] == 0:\n",
    "                    visit[i] = 1\n",
    "                    que.append(i)\n",
    "        return visit\n",
    "    visit = [0 for i in range(n)]\n",
    "    answer = 0\n",
    "    for i in range(n):\n",
    "        try:\n",
    "            visit = BFS(visit.index(0), visit)\n",
    "            answer += 1\n",
    "        except:\n",
    "            break\n",
    "    return answer\n",
    "\n",
    "computers = [[1, 1, 0], [1, 1, 0], [0, 0, 1]]\n",
    "solution(3, computers)"
   ]
  },
  {
   "cell_type": "code",
   "execution_count": null,
   "metadata": {},
   "outputs": [],
   "source": []
  }
 ],
 "metadata": {
  "kernelspec": {
   "display_name": "Python 3",
   "language": "python",
   "name": "python3"
  },
  "language_info": {
   "codemirror_mode": {
    "name": "ipython",
    "version": 3
   },
   "file_extension": ".py",
   "mimetype": "text/x-python",
   "name": "python",
   "nbconvert_exporter": "python",
   "pygments_lexer": "ipython3",
   "version": "3.8.3"
  }
 },
 "nbformat": 4,
 "nbformat_minor": 4
}
