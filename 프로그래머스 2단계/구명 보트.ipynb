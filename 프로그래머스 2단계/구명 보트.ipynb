{
 "cells": [
  {
   "cell_type": "markdown",
   "metadata": {},
   "source": [
    "## 내 풀이"
   ]
  },
  {
   "cell_type": "markdown",
   "metadata": {},
   "source": [
    "### 가장 무거운 사람을 가장 가벼운 사람과 같이 무게를 재보고 limit을 넘으면 혼자 태우기\n",
    "### 정확도는 높지만, 효율성이 떨어지는 풀이 => remove() 를 사용하면 효율성이 좋지 않음"
   ]
  },
  {
   "cell_type": "code",
   "execution_count": 94,
   "metadata": {},
   "outputs": [
    {
     "data": {
      "text/plain": [
       "3"
      ]
     },
     "execution_count": 94,
     "metadata": {},
     "output_type": "execute_result"
    }
   ],
   "source": [
    "def solution(people, limit):\n",
    "    answer = 0\n",
    "        \n",
    "    while (len(people) > 1):\n",
    "        if max(people) + min(people) > limit:\n",
    "            people.remove(max(people))\n",
    "            answer = answer + 1\n",
    "        else:\n",
    "            people.remove(max(people))\n",
    "            people.remove(min(people))\n",
    "            answer = answer + 1\n",
    "    \n",
    "    if len(people) == 1:\n",
    "        answer = answer + 1\n",
    "    \n",
    "    return answer\n",
    "\n",
    "people = [70, 80, 50]\n",
    "solution(people, 100)"
   ]
  },
  {
   "cell_type": "markdown",
   "metadata": {},
   "source": [
    "## 다른 사람 풀이"
   ]
  },
  {
   "cell_type": "code",
   "execution_count": 107,
   "metadata": {},
   "outputs": [
    {
     "data": {
      "text/plain": [
       "3"
      ]
     },
     "execution_count": 107,
     "metadata": {},
     "output_type": "execute_result"
    }
   ],
   "source": [
    "def solution(people, limit) :\n",
    "    answer = 0\n",
    "    people.sort()\n",
    "\n",
    "    a = 0\n",
    "    b = len(people) - 1\n",
    "    while a < b :\n",
    "        if people[b] + people[a] <= limit :\n",
    "            a = a + 1\n",
    "            answer = answer + 1\n",
    "        b = b - 1\n",
    "    return len(people) - answer\n",
    "\n",
    "people = [70, 80, 50]\n",
    "solution(people, 100)"
   ]
  },
  {
   "cell_type": "code",
   "execution_count": null,
   "metadata": {},
   "outputs": [],
   "source": []
  }
 ],
 "metadata": {
  "kernelspec": {
   "display_name": "Python 3",
   "language": "python",
   "name": "python3"
  },
  "language_info": {
   "codemirror_mode": {
    "name": "ipython",
    "version": 3
   },
   "file_extension": ".py",
   "mimetype": "text/x-python",
   "name": "python",
   "nbconvert_exporter": "python",
   "pygments_lexer": "ipython3",
   "version": "3.8.3"
  }
 },
 "nbformat": 4,
 "nbformat_minor": 4
}
