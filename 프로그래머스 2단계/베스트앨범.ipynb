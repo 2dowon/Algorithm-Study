{
 "cells": [
  {
   "cell_type": "code",
   "execution_count": 7,
   "metadata": {},
   "outputs": [
    {
     "name": "stdout",
     "output_type": "stream",
     "text": [
      "{'classic': 800, 'pop': 2500}\n"
     ]
    },
    {
     "data": {
      "text/plain": [
       "[]"
      ]
     },
     "execution_count": 7,
     "metadata": {},
     "output_type": "execute_result"
    }
   ],
   "source": [
    "def solution(genres, plays):\n",
    "    answer = []\n",
    "    music_dic = {\n",
    "        genres : plays for genres, plays in zip(genres, plays)\n",
    "    }\n",
    "    print(music_dic)\n",
    "    return answer\n",
    "\n",
    "genres = ['classic', 'pop', 'classic', 'classic', 'pop']\n",
    "plays = [500, 600, 150, 800, 2500]\n",
    "solution(genres, plays)"
   ]
  },
  {
   "cell_type": "code",
   "execution_count": 4,
   "metadata": {},
   "outputs": [
    {
     "name": "stdout",
     "output_type": "stream",
     "text": [
      "{'A': 85, 'B': 92, 'C': 100}\n"
     ]
    }
   ],
   "source": [
    "students = ['A', 'B', 'C']\n",
    "scores = [85, 92, 100]\n",
    "\n",
    "music_dic = {\n",
    "    genres : plays for students, score in zip(genres, plays)\n",
    "}\n",
    "\n",
    "print(score_dic)"
   ]
  },
  {
   "cell_type": "code",
   "execution_count": 11,
   "metadata": {},
   "outputs": [
    {
     "name": "stdout",
     "output_type": "stream",
     "text": [
      "{'A': 85, 'B': 92, 'C': 100}\n"
     ]
    }
   ],
   "source": [
    "students = ['A','B','C']\n",
    "scores = [85, 92, 100]\n",
    "score_dic  = dict(zip(students, scores))\n",
    "print(score_dic)"
   ]
  },
  {
   "cell_type": "code",
   "execution_count": null,
   "metadata": {},
   "outputs": [],
   "source": []
  }
 ],
 "metadata": {
  "kernelspec": {
   "display_name": "Python 3",
   "language": "python",
   "name": "python3"
  },
  "language_info": {
   "codemirror_mode": {
    "name": "ipython",
    "version": 3
   },
   "file_extension": ".py",
   "mimetype": "text/x-python",
   "name": "python",
   "nbconvert_exporter": "python",
   "pygments_lexer": "ipython3",
   "version": "3.8.3"
  }
 },
 "nbformat": 4,
 "nbformat_minor": 4
}
