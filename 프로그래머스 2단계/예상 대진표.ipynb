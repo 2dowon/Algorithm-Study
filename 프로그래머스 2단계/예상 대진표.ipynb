{
 "cells": [
  {
   "cell_type": "markdown",
   "metadata": {},
   "source": [
    "## 내 풀이"
   ]
  },
  {
   "cell_type": "code",
   "execution_count": 36,
   "metadata": {},
   "outputs": [
    {
     "data": {
      "text/plain": [
       "2"
      ]
     },
     "execution_count": 36,
     "metadata": {},
     "output_type": "execute_result"
    }
   ],
   "source": [
    "import math\n",
    "def solution(n,a,b):\n",
    "    answer = 0\n",
    "    breaker = False\n",
    "    \n",
    "    for i in range(1, int(math.log2(n))+1):\n",
    "        for j in range(0, n, 2**i):\n",
    "            if (j < a <= j+2**i) and (j < b <= j+2**i):\n",
    "                answer = i\n",
    "                breaker= True\n",
    "                break\n",
    "        if breaker == True:\n",
    "            break\n",
    "    \n",
    "    return answer\n",
    "\n",
    "solution(16, 1, 4)"
   ]
  },
  {
   "cell_type": "markdown",
   "metadata": {},
   "source": [
    "## 다른 사람 풀이"
   ]
  },
  {
   "cell_type": "code",
   "execution_count": 41,
   "metadata": {},
   "outputs": [
    {
     "data": {
      "text/plain": [
       "2"
      ]
     },
     "execution_count": 41,
     "metadata": {},
     "output_type": "execute_result"
    }
   ],
   "source": [
    "def solution(n,a,b):\n",
    "    answer = 0\n",
    "    while a != b:\n",
    "        answer = answer + 1\n",
    "        a, b = (a+1)//2, (b+1)//2\n",
    "\n",
    "    return answer\n",
    "\n",
    "solution(16, 1, 4)"
   ]
  },
  {
   "cell_type": "code",
   "execution_count": null,
   "metadata": {},
   "outputs": [],
   "source": []
  }
 ],
 "metadata": {
  "kernelspec": {
   "display_name": "Python 3",
   "language": "python",
   "name": "python3"
  },
  "language_info": {
   "codemirror_mode": {
    "name": "ipython",
    "version": 3
   },
   "file_extension": ".py",
   "mimetype": "text/x-python",
   "name": "python",
   "nbconvert_exporter": "python",
   "pygments_lexer": "ipython3",
   "version": "3.8.3"
  }
 },
 "nbformat": 4,
 "nbformat_minor": 4
}
