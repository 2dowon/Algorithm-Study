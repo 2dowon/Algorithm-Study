{
 "cells": [
  {
   "cell_type": "markdown",
   "metadata": {},
   "source": [
    "## 다른 사람 풀이"
   ]
  },
  {
   "cell_type": "code",
   "execution_count": 26,
   "metadata": {},
   "outputs": [
    {
     "data": {
      "text/plain": [
       "16"
      ]
     },
     "execution_count": 26,
     "metadata": {},
     "output_type": "execute_result"
    }
   ],
   "source": [
    "def solution(land):\n",
    "    for i in range(0, len(land)-1):\n",
    "        land[i+1][0] = max(land[i][1],land[i][2],land[i][3]) + land[i+1][0]\n",
    "        land[i+1][1] = max(land[i][0],land[i][2],land[i][3]) + land[i+1][1]\n",
    "        land[i+1][2] = max(land[i][0],land[i][1],land[i][3]) + land[i+1][2]\n",
    "        land[i+1][3] = max(land[i][0],land[i][1],land[i][2]) + land[i+1][3]\n",
    "    return max(land[len(land)-1])\n",
    "\n",
    "land = [[1,2,3,5],[5,6,7,8],[4,3,2,1]]\n",
    "solution(land)"
   ]
  },
  {
   "cell_type": "code",
   "execution_count": 37,
   "metadata": {},
   "outputs": [
    {
     "data": {
      "text/plain": [
       "16"
      ]
     },
     "execution_count": 37,
     "metadata": {},
     "output_type": "execute_result"
    }
   ],
   "source": [
    "def solution(land):\n",
    "    for i in range(1, len(land)):\n",
    "        for j in range(len(land[0])):\n",
    "            land[i][j] = max(land[i -1][: j] + land[i - 1][j + 1:]) + land[i][j]\n",
    "\n",
    "    return max(land[-1])\n",
    "\n",
    "land = [[1,2,3,5],[5,6,7,8],[4,3,2,1]]\n",
    "solution(land)"
   ]
  },
  {
   "cell_type": "code",
   "execution_count": 40,
   "metadata": {},
   "outputs": [
    {
     "data": {
      "text/plain": [
       "16"
      ]
     },
     "execution_count": 40,
     "metadata": {},
     "output_type": "execute_result"
    }
   ],
   "source": [
    "def solution(land):\n",
    "    size = len(land)\n",
    "    for i in range(size):\n",
    "        if i == size - 1:\n",
    "            return max(land[i])\n",
    "        for j in range(4):\n",
    "            land[i + 1][j] += max(land[i][:j] + land[i][j + 1:])\n",
    "            \n",
    "land = [[1,2,3,5],[5,6,7,8],[4,3,2,1]]\n",
    "solution(land)"
   ]
  },
  {
   "cell_type": "code",
   "execution_count": null,
   "metadata": {},
   "outputs": [],
   "source": []
  }
 ],
 "metadata": {
  "kernelspec": {
   "display_name": "Python 3",
   "language": "python",
   "name": "python3"
  },
  "language_info": {
   "codemirror_mode": {
    "name": "ipython",
    "version": 3
   },
   "file_extension": ".py",
   "mimetype": "text/x-python",
   "name": "python",
   "nbconvert_exporter": "python",
   "pygments_lexer": "ipython3",
   "version": "3.8.3"
  }
 },
 "nbformat": 4,
 "nbformat_minor": 4
}
