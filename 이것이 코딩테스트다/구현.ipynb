{
 "cells": [
  {
   "cell_type": "markdown",
   "metadata": {},
   "source": [
    "## 4-1 상하좌우 (p.110)"
   ]
  },
  {
   "cell_type": "markdown",
   "metadata": {},
   "source": [
    "### 내 풀이"
   ]
  },
  {
   "cell_type": "code",
   "execution_count": 12,
   "metadata": {},
   "outputs": [
    {
     "name": "stdout",
     "output_type": "stream",
     "text": [
      "3 4\n"
     ]
    }
   ],
   "source": [
    "def solution(n) :\n",
    "    data_list = [\"R\", \"R\", \"R\", \"U\", \"D\", \"D\"]\n",
    "    loc = [1, 1]\n",
    "    \n",
    "    for i in data_list :\n",
    "        if i == \"R\" :\n",
    "            loc[1] = loc[1] + 1\n",
    "        elif i == \"L\" :\n",
    "            if loc[1] > 1 :\n",
    "                loc[1] = loc[1] - 1\n",
    "        elif i == \"U\" :\n",
    "            if loc[0] > 1 :\n",
    "                loc[0] = loc[0] - 1\n",
    "        else : # \"D\"\n",
    "            loc[0] = loc[0] + 1\n",
    "    \n",
    "    x, y = loc[0], loc[1]\n",
    "    print(x, y)\n",
    "    \n",
    "solution(5)"
   ]
  },
  {
   "cell_type": "markdown",
   "metadata": {},
   "source": [
    "### 책 풀이"
   ]
  },
  {
   "cell_type": "code",
   "execution_count": 10,
   "metadata": {},
   "outputs": [
    {
     "name": "stdout",
     "output_type": "stream",
     "text": [
      "5\n",
      "R R R U D D\n",
      "3 4\n"
     ]
    }
   ],
   "source": [
    "# N을 입력받기\n",
    "n = int(input())\n",
    "x, y = 1, 1\n",
    "plans = input().split()\n",
    "\n",
    "# L, R, U, D에 따른 이동 방향\n",
    "dx = [0, 0, -1, 1]\n",
    "dy = [-1, 1, 0, 0]\n",
    "move_types = [\"L\", \"R\", \"U\", \"D\"]\n",
    "\n",
    "# 이동 계획을 하나씩 확인\n",
    "for plan in plans :\n",
    "    # 이동 후 좌표 구하기\n",
    "    for i in range(len(move_types)) :\n",
    "        if plan == move_types[i] :\n",
    "            nx = x + dx[i]\n",
    "            ny = y + dy[i]\n",
    "        # 공간을 벗어나는 경우 무시\n",
    "    if nx < 1 or ny < 1 or nx > n or ny > n :\n",
    "        continue\n",
    "    # 이동 수행\n",
    "    x, y = nx, ny\n",
    "        \n",
    "print(x,y)"
   ]
  },
  {
   "cell_type": "markdown",
   "metadata": {},
   "source": [
    "## 4-2 시각 (p.113)"
   ]
  },
  {
   "cell_type": "markdown",
   "metadata": {},
   "source": [
    "### 내 풀이"
   ]
  },
  {
   "cell_type": "code",
   "execution_count": 26,
   "metadata": {},
   "outputs": [
    {
     "data": {
      "text/plain": [
       "11475"
      ]
     },
     "execution_count": 26,
     "metadata": {},
     "output_type": "execute_result"
    }
   ],
   "source": [
    "def solution(n) :\n",
    "    time = [0,0,0]\n",
    "    answer = 0\n",
    "    \n",
    "    for i in range(n+1) :\n",
    "        time = [i, 0, 0]\n",
    "        for j in range(60) :\n",
    "            time = [i, j, 0]\n",
    "            for k in range(60) :\n",
    "                time = [i, j, k]\n",
    "                time_str = str(i) + str(j) + str(k)\n",
    "                if '3' in list(time_str) :\n",
    "                    answer = answer + 1\n",
    "    \n",
    "    return answer\n",
    "    \n",
    "solution(5)"
   ]
  },
  {
   "cell_type": "markdown",
   "metadata": {},
   "source": [
    "### 책 풀이"
   ]
  },
  {
   "cell_type": "code",
   "execution_count": 28,
   "metadata": {},
   "outputs": [
    {
     "name": "stdout",
     "output_type": "stream",
     "text": [
      "5\n",
      "11475\n"
     ]
    }
   ],
   "source": [
    "h = int(input())\n",
    "\n",
    "count = 0\n",
    "for i in range(h+1) :\n",
    "    for j in range(60):\n",
    "        for k in range(60):\n",
    "            # 매 시각 안에 '3'이 포함되어 있다면 카운트 증가\n",
    "            if '3' in str(i) + str(j) + str(k) :\n",
    "                count = count + 1\n",
    "\n",
    "print(count)"
   ]
  },
  {
   "cell_type": "markdown",
   "metadata": {},
   "source": [
    "## 왕실의 나이트 (p.115)"
   ]
  },
  {
   "cell_type": "markdown",
   "metadata": {},
   "source": [
    "### 내 풀이"
   ]
  },
  {
   "cell_type": "markdown",
   "metadata": {},
   "source": [
    "### 처음에 생각했던 풀이인데, 경우의 수를 하나하나 다 고려해야 되므로 비효율적이라 중간에 포기"
   ]
  },
  {
   "cell_type": "code",
   "execution_count": 36,
   "metadata": {},
   "outputs": [
    {
     "data": {
      "text/plain": [
       "2"
      ]
     },
     "execution_count": 36,
     "metadata": {},
     "output_type": "execute_result"
    }
   ],
   "source": [
    "def solution(n) :\n",
    "    rows = [\"1\", \"2\", \"3\", \"4\", \"5\", \"6\", \"7\", \"8\"]\n",
    "    columns = [\"a\", \"b\", \"c\", \"d\", \"e\", \"f\", \"g\", \"h\"]\n",
    "    loc = list(n)\n",
    "    loc_r = rows.index(loc[1])\n",
    "    loc_c = columns.index(loc[0])\n",
    "\n",
    "    if loc_r > 1 and loc_c > 1 :\n",
    "        answer = 8\n",
    "    elif (loc_r > 1 and loc_c > 0) or (loc_r > 0 and loc_c > 1) :\n",
    "        answer = 6\n",
    "    elif loc_r > 0 and loc_c > 0 :\n",
    "        answer = 4\n",
    "    else :\n",
    "        answer = 2\n",
    "    \n",
    "    return answer\n",
    "\n",
    "solution(\"a2\")"
   ]
  },
  {
   "cell_type": "markdown",
   "metadata": {},
   "source": [
    "### 책에서 힌트를 얻고 다시 푼 풀이"
   ]
  },
  {
   "cell_type": "code",
   "execution_count": 63,
   "metadata": {},
   "outputs": [
    {
     "data": {
      "text/plain": [
       "2"
      ]
     },
     "execution_count": 63,
     "metadata": {},
     "output_type": "execute_result"
    }
   ],
   "source": [
    "def solution(n) :\n",
    "    steps = [(-2, -1), (-1, -2), (1, -2), (2, -1), (2, 1), (1, 2), (-1,2 ), (-2, 1)]\n",
    "    # rows = [\"1\", \"2\", \"3\", \"4\", \"5\", \"6\", \"7\", \"8\"]\n",
    "    columns = [\"a\", \"b\", \"c\", \"d\", \"e\", \"f\", \"g\", \"h\"]\n",
    "    loc = list(n)\n",
    "    # loc_r = rows.index(loc[1])\n",
    "    loc_r = int(loc[1]) - 1\n",
    "    loc_c = columns.index(loc[0])\n",
    "    count = 0\n",
    "    \n",
    "    for i in steps :\n",
    "        next_r = loc_r + i[1]\n",
    "        next_c = loc_c + i[0]\n",
    "        if 0 <= next_r < 8 and 0 <= next_c < 8 :\n",
    "            count = count + 1\n",
    "            \n",
    "    return count\n",
    "    \n",
    "solution(\"a1\")"
   ]
  },
  {
   "cell_type": "markdown",
   "metadata": {},
   "source": [
    "### 책 풀이"
   ]
  },
  {
   "cell_type": "code",
   "execution_count": 53,
   "metadata": {},
   "outputs": [
    {
     "name": "stdout",
     "output_type": "stream",
     "text": [
      "c2\n",
      "6\n"
     ]
    }
   ],
   "source": [
    "# 현재 나이트의 위치 입력받기\n",
    "input_data = input()\n",
    "row = int(input_data[1])\n",
    "column = int(ord(input_data[0])) - int(ord('a')) + 1 # 아스키 코드를 활용\n",
    "\n",
    "# 8가지 방향에 대하여 각 위치로 이동이 가능한지 확인\n",
    "steps = [(-2, -1), (-1, -2), (1, -2), (2, -1), (2, 1), (1, 2), (-1,2 ), (-2, 1)]\n",
    "\n",
    "result = 0\n",
    "for step in steps :\n",
    "    # 이동하고자 하는 위치 확인\n",
    "    next_row = row + step[0]\n",
    "    next_column = column + step[1]\n",
    "    # 해당 위치로 이동이 가능하다면 카운트 증가\n",
    "    if 1 <= next_row <= 8 and 1 <= next_column <= 8 :\n",
    "        result = result + 1\n",
    "        \n",
    "print(result)"
   ]
  },
  {
   "cell_type": "code",
   "execution_count": 54,
   "metadata": {},
   "outputs": [
    {
     "data": {
      "text/plain": [
       "97"
      ]
     },
     "execution_count": 54,
     "metadata": {},
     "output_type": "execute_result"
    }
   ],
   "source": [
    "ord('a')"
   ]
  },
  {
   "cell_type": "code",
   "execution_count": null,
   "metadata": {},
   "outputs": [],
   "source": []
  }
 ],
 "metadata": {
  "kernelspec": {
   "display_name": "Python 3",
   "language": "python",
   "name": "python3"
  },
  "language_info": {
   "codemirror_mode": {
    "name": "ipython",
    "version": 3
   },
   "file_extension": ".py",
   "mimetype": "text/x-python",
   "name": "python",
   "nbconvert_exporter": "python",
   "pygments_lexer": "ipython3",
   "version": "3.8.3"
  }
 },
 "nbformat": 4,
 "nbformat_minor": 4
}
