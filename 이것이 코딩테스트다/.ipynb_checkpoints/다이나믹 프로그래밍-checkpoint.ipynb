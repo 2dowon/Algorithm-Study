{
 "cells": [
  {
   "cell_type": "markdown",
   "metadata": {},
   "source": [
    "## 1로 만들기"
   ]
  },
  {
   "cell_type": "code",
   "execution_count": 23,
   "metadata": {},
   "outputs": [
    {
     "name": "stdout",
     "output_type": "stream",
     "text": [
      "3\n"
     ]
    }
   ],
   "source": [
    "def solution(x):\n",
    "    # 계산된 결과를 저장하기 위한 DP테이블 초기화\n",
    "    d = [0] * (x+1)\n",
    "    \n",
    "    for i in range(2, x+1):\n",
    "        # 현재의 수에서 1을 빼는 경우\n",
    "        d[i] = d[i-1] + 1\n",
    "        # 현재의 수가 2로 나누어 떨어지는 경우\n",
    "        if i % 2 == 0:\n",
    "            d[i] = min(d[i], d[i // 2] + 1)\n",
    "        # 현재의 수가 3로 나누어 떨어지는 경우\n",
    "        if i % 3 == 0:\n",
    "            d[i] = min(d[i], d[i // 3] + 1)\n",
    "        # 현재의 수가 5로 나누어 떨어지는 경우\n",
    "        if i % 5 == 0:\n",
    "            d[i] = min(d[i], d[i // 5] + 1)\n",
    "    \n",
    "    print(d[x])\n",
    "    \n",
    "solution(26)"
   ]
  },
  {
   "cell_type": "markdown",
   "metadata": {},
   "source": [
    "## 개미 전사"
   ]
  },
  {
   "cell_type": "code",
   "execution_count": 29,
   "metadata": {},
   "outputs": [
    {
     "name": "stdout",
     "output_type": "stream",
     "text": [
      "8\n"
     ]
    }
   ],
   "source": [
    "def solution(n, array):\n",
    "    # 앞서 계산된 결과를 저장하기 위한 DP 테이블 초기화\n",
    "    d = [0] * n\n",
    "    \n",
    "    # 다이나믹 프로그래밍(Dynamic Programming) 진행 (보텀업)\n",
    "    d[0] = array[0]\n",
    "    d[1] = max(array[0], array[1]) \n",
    "    for i in range(2, n):\n",
    "        d[i] = max(d[i - 1], d[i - 2] + array[i])\n",
    "        \n",
    "    print(d[n - 1])\n",
    "\n",
    "n = 4\n",
    "array = [1, 3, 1, 5] # 모든 식량 정보\n",
    "solution(n, array)"
   ]
  },
  {
   "cell_type": "markdown",
   "metadata": {},
   "source": [
    "## 바닥 공사"
   ]
  },
  {
   "cell_type": "code",
   "execution_count": null,
   "metadata": {},
   "outputs": [],
   "source": []
  }
 ],
 "metadata": {
  "kernelspec": {
   "display_name": "Python 3",
   "language": "python",
   "name": "python3"
  },
  "language_info": {
   "codemirror_mode": {
    "name": "ipython",
    "version": 3
   },
   "file_extension": ".py",
   "mimetype": "text/x-python",
   "name": "python",
   "nbconvert_exporter": "python",
   "pygments_lexer": "ipython3",
   "version": "3.8.3"
  }
 },
 "nbformat": 4,
 "nbformat_minor": 2
}
