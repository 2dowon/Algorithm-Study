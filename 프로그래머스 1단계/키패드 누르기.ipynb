{
 "cells": [
  {
   "cell_type": "markdown",
   "id": "437c7b78",
   "metadata": {},
   "source": [
    "## 다른 사람 풀이"
   ]
  },
  {
   "cell_type": "code",
   "execution_count": 13,
   "id": "cd9b16b4",
   "metadata": {},
   "outputs": [
    {
     "name": "stdout",
     "output_type": "stream",
     "text": [
      "LRLLLRLLRRL\n"
     ]
    }
   ],
   "source": [
    "def solution(numbers, hand):\n",
    "    answer = ''\n",
    "    key_dict = {1:(0,0),2:(0,1),3:(0,2),\n",
    "                4:(1,0),5:(1,1),6:(1,2),\n",
    "                7:(2,0),8:(2,1),9:(2,2),\n",
    "                '*':(3,0),0:(3,1),'#':(3,2)}\n",
    "\n",
    "    left = [1,4,7]\n",
    "    right = [3,6,9]\n",
    "    lhand = '*'\n",
    "    rhand = '#'\n",
    "    for i in numbers:\n",
    "        if i in left:\n",
    "            answer += 'L'\n",
    "            lhand = i\n",
    "        elif i in right:\n",
    "            answer += 'R'\n",
    "            rhand = i\n",
    "        else:\n",
    "            curPos = key_dict[i]\n",
    "            lPos = key_dict[lhand]\n",
    "            rPos = key_dict[rhand]\n",
    "            ldist = abs(curPos[0]-lPos[0]) + abs(curPos[1]-lPos[1])\n",
    "            rdist = abs(curPos[0]-rPos[0]) + abs(curPos[1]-rPos[1])\n",
    "\n",
    "            if ldist < rdist:\n",
    "                answer += 'L'\n",
    "                lhand = i\n",
    "            elif ldist > rdist:\n",
    "                answer += 'R'\n",
    "                rhand = i\n",
    "            else:\n",
    "                if hand == 'left':\n",
    "                    answer += 'L'\n",
    "                    lhand = i\n",
    "                else:\n",
    "                    answer += 'R'\n",
    "                    rhand = i\n",
    "\n",
    "    return answer\n",
    "\n",
    "\n",
    "\n",
    "numbers = [1, 3, 4, 5, 8, 2, 1, 4, 5, 9, 5]\n",
    "hand = \"right\"\n",
    "print(solution(numbers, hand))"
   ]
  },
  {
   "cell_type": "code",
   "execution_count": null,
   "id": "7078f91e",
   "metadata": {},
   "outputs": [],
   "source": []
  }
 ],
 "metadata": {
  "kernelspec": {
   "display_name": "Python 3",
   "language": "python",
   "name": "python3"
  },
  "language_info": {
   "codemirror_mode": {
    "name": "ipython",
    "version": 3
   },
   "file_extension": ".py",
   "mimetype": "text/x-python",
   "name": "python",
   "nbconvert_exporter": "python",
   "pygments_lexer": "ipython3",
   "version": "3.8.8"
  }
 },
 "nbformat": 4,
 "nbformat_minor": 5
}
