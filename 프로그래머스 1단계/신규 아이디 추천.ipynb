{
 "cells": [
  {
   "cell_type": "markdown",
   "id": "dd4341d3",
   "metadata": {},
   "source": [
    "## 내 풀이 => 정규식을 이용하지 않고 하려다보니까 계속 막힘..."
   ]
  },
  {
   "cell_type": "code",
   "execution_count": 30,
   "id": "5dbde814",
   "metadata": {},
   "outputs": [
    {
     "name": "stdout",
     "output_type": "stream",
     "text": [
      "...bat..y.abcdefghijklm\n"
     ]
    }
   ],
   "source": [
    "def solution(new_id):\n",
    "    answer = ''\n",
    "    \n",
    "    answer = new_id.lower()\n",
    "    \n",
    "    for a in answer:\n",
    "        if a.isalpha() == False and a.isdigit() == False and a != \"-\" and a != \"_\" and a != \".\":\n",
    "            answer = answer.replace(a, \"\")\n",
    "    \n",
    "    dot_index = answer.index(\".\")\n",
    "    x = answer[dot_index+1]\n",
    "    \n",
    "    \n",
    "    return answer\n",
    "\n",
    "new_id = \"...!@BaT#*..y.abcdefghijklm\"\n",
    "print(solution(new_id))"
   ]
  },
  {
   "cell_type": "markdown",
   "id": "6d08df91",
   "metadata": {},
   "source": [
    "## 다른 사람 풀이"
   ]
  },
  {
   "cell_type": "code",
   "execution_count": 32,
   "id": "8198bf00",
   "metadata": {},
   "outputs": [
    {
     "name": "stdout",
     "output_type": "stream",
     "text": [
      "bat.y.abcdefghi\n"
     ]
    }
   ],
   "source": [
    "import re\n",
    "\n",
    "def solution(new_id):\n",
    "    st = new_id\n",
    "    st = st.lower()\n",
    "    st = re.sub('[^a-z0-9\\-_.]', '', st)\n",
    "    st = re.sub('\\.+', '.', st)\n",
    "    st = re.sub('^[.]|[.]$', '', st)\n",
    "    st = 'a' if len(st) == 0 else st[:15]\n",
    "    st = re.sub('^[.]|[.]$', '', st)\n",
    "    st = st if len(st) > 2 else st + \"\".join([st[-1] for i in range(3-len(st))])\n",
    "    return st\n",
    "\n",
    "new_id = \"...!@BaT#*..y.abcdefghijklm\"\n",
    "print(solution(new_id))"
   ]
  },
  {
   "cell_type": "code",
   "execution_count": null,
   "id": "90418ecc",
   "metadata": {},
   "outputs": [],
   "source": []
  }
 ],
 "metadata": {
  "kernelspec": {
   "display_name": "Python 3",
   "language": "python",
   "name": "python3"
  },
  "language_info": {
   "codemirror_mode": {
    "name": "ipython",
    "version": 3
   },
   "file_extension": ".py",
   "mimetype": "text/x-python",
   "name": "python",
   "nbconvert_exporter": "python",
   "pygments_lexer": "ipython3",
   "version": "3.8.8"
  }
 },
 "nbformat": 4,
 "nbformat_minor": 5
}
