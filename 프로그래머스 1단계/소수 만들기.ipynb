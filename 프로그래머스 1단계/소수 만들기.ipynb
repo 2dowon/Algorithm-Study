{
 "cells": [
  {
   "cell_type": "markdown",
   "id": "c94a9485",
   "metadata": {},
   "source": [
    "## 내 풀이"
   ]
  },
  {
   "cell_type": "code",
   "execution_count": 16,
   "id": "4d12be61",
   "metadata": {},
   "outputs": [
    {
     "name": "stdout",
     "output_type": "stream",
     "text": [
      "4\n"
     ]
    }
   ],
   "source": [
    "def isPrime(n):\n",
    "    for i in range(2, n):\n",
    "        if n % i == 0:\n",
    "            return False\n",
    "    \n",
    "    return True\n",
    "\n",
    "def solution(nums):\n",
    "    answer = 0\n",
    "    n = len(nums)\n",
    "    \n",
    "    for i in range(0, n):\n",
    "        for j in range(i+1, n):\n",
    "            for k in range(j+1, n):\n",
    "                if isPrime(nums[i]+nums[j]+nums[k]) == True:\n",
    "                    answer +=1\n",
    "                \n",
    "    \n",
    "    return answer\n",
    "\n",
    "nums = [1,2,7,6,4]\n",
    "print(solution(nums))"
   ]
  },
  {
   "cell_type": "markdown",
   "id": "4e8eb605",
   "metadata": {},
   "source": [
    "## 다른 사람 풀이 중 \n",
    "from itertools import combinations 활용"
   ]
  },
  {
   "cell_type": "code",
   "execution_count": 19,
   "id": "c53da055",
   "metadata": {},
   "outputs": [
    {
     "name": "stdout",
     "output_type": "stream",
     "text": [
      "4\n"
     ]
    }
   ],
   "source": [
    "def isPrime(n):\n",
    "    for i in range(2, n):\n",
    "        if n % i == 0:\n",
    "            return False\n",
    "    \n",
    "    return True\n",
    "\n",
    "def solution(nums):\n",
    "    from itertools import combinations as cb\n",
    "    answer = 0\n",
    "    \n",
    "    for a in cb(nums, 3):\n",
    "        if isPrime(sum(a)) == True:\n",
    "            answer +=1\n",
    "            \n",
    "    return answer\n",
    "\n",
    "nums = [1,2,7,6,4]\n",
    "print(solution(nums))"
   ]
  },
  {
   "cell_type": "code",
   "execution_count": null,
   "id": "3b0bd272",
   "metadata": {},
   "outputs": [],
   "source": []
  }
 ],
 "metadata": {
  "kernelspec": {
   "display_name": "Python 3",
   "language": "python",
   "name": "python3"
  },
  "language_info": {
   "codemirror_mode": {
    "name": "ipython",
    "version": 3
   },
   "file_extension": ".py",
   "mimetype": "text/x-python",
   "name": "python",
   "nbconvert_exporter": "python",
   "pygments_lexer": "ipython3",
   "version": "3.8.8"
  }
 },
 "nbformat": 4,
 "nbformat_minor": 5
}
