{
 "cells": [
  {
   "cell_type": "markdown",
   "id": "594f3eab",
   "metadata": {},
   "source": [
    "## 내 풀이"
   ]
  },
  {
   "cell_type": "code",
   "execution_count": 2,
   "id": "e8e570be",
   "metadata": {},
   "outputs": [
    {
     "name": "stdout",
     "output_type": "stream",
     "text": [
      "3\n"
     ]
    }
   ],
   "source": [
    "def solution(a, b):\n",
    "    answer = 0\n",
    "    \n",
    "    for i, j in zip(a,b):\n",
    "        answer += i*j\n",
    "    \n",
    "    return answer\n",
    "\n",
    "a = [1,2,3,4]\n",
    "b = [-3,-1,0,2]\n",
    "print(solution(a, b))"
   ]
  },
  {
   "cell_type": "markdown",
   "id": "e9a178a2",
   "metadata": {},
   "source": [
    "## 다른 사람 풀이"
   ]
  },
  {
   "cell_type": "code",
   "execution_count": 3,
   "id": "72d6ae79",
   "metadata": {},
   "outputs": [
    {
     "name": "stdout",
     "output_type": "stream",
     "text": [
      "3\n"
     ]
    }
   ],
   "source": [
    "def solution(a, b):\n",
    "\n",
    "    return sum([x*y for x, y in zip(a,b)])\n",
    "\n",
    "a = [1,2,3,4]\n",
    "b = [-3,-1,0,2]\n",
    "print(solution(a, b))"
   ]
  },
  {
   "cell_type": "code",
   "execution_count": null,
   "id": "9eda1335",
   "metadata": {},
   "outputs": [],
   "source": []
  }
 ],
 "metadata": {
  "kernelspec": {
   "display_name": "Python 3",
   "language": "python",
   "name": "python3"
  },
  "language_info": {
   "codemirror_mode": {
    "name": "ipython",
    "version": 3
   },
   "file_extension": ".py",
   "mimetype": "text/x-python",
   "name": "python",
   "nbconvert_exporter": "python",
   "pygments_lexer": "ipython3",
   "version": "3.8.8"
  }
 },
 "nbformat": 4,
 "nbformat_minor": 5
}
