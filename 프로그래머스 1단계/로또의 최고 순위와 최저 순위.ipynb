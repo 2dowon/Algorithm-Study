{
 "cells": [
  {
   "cell_type": "markdown",
   "id": "0f6bcb40",
   "metadata": {},
   "source": [
    "## 내 풀이"
   ]
  },
  {
   "cell_type": "code",
   "execution_count": 17,
   "id": "d36a4fb7",
   "metadata": {},
   "outputs": [
    {
     "name": "stdout",
     "output_type": "stream",
     "text": [
      "[3, 5]\n"
     ]
    }
   ],
   "source": [
    "def get_ranking(num):\n",
    "    if num == 6 :\n",
    "        return 1\n",
    "    elif num == 5:\n",
    "        return 2\n",
    "    elif num == 4 :\n",
    "        return 3\n",
    "    elif num == 3 :\n",
    "        return 4\n",
    "    elif num == 2 :\n",
    "        return 5\n",
    "    else:\n",
    "        return 6\n",
    "    \n",
    "\n",
    "def solution(lottos, win_nums):\n",
    "    answer = []\n",
    "    cnt_collect_num = 0\n",
    "    \n",
    "    for lotto in lottos:\n",
    "        if lotto in win_nums:\n",
    "            cnt_collect_num += 1\n",
    "\n",
    "    answer.append(get_ranking(cnt_collect_num))\n",
    "    answer.append(get_ranking(cnt_collect_num+lottos.count(0)))\n",
    "    \n",
    "    answer.sort()\n",
    "    \n",
    "    return answer\n",
    "\n",
    "\n",
    "lottos = [44, 1, 0, 0, 31, 25]\n",
    "win_nums = [31, 10, 45, 1, 6, 19]\n",
    "print(solution(lottos, win_nums))"
   ]
  },
  {
   "cell_type": "markdown",
   "id": "f945d236",
   "metadata": {},
   "source": [
    "## 다른 사람 풀이"
   ]
  },
  {
   "cell_type": "code",
   "execution_count": 18,
   "id": "db9ea94f",
   "metadata": {},
   "outputs": [
    {
     "name": "stdout",
     "output_type": "stream",
     "text": [
      "(3, 5)\n"
     ]
    }
   ],
   "source": [
    "def solution(lottos, win_nums):\n",
    "\n",
    "    rank=[6,6,5,4,3,2,1]\n",
    "\n",
    "    cnt_0 = lottos.count(0)\n",
    "    ans = 0\n",
    "    for x in win_nums:\n",
    "        if x in lottos:\n",
    "            ans += 1\n",
    "    return rank[cnt_0 + ans],rank[ans]\n",
    "\n",
    "lottos = [44, 1, 0, 0, 31, 25]\n",
    "win_nums = [31, 10, 45, 1, 6, 19]\n",
    "print(solution(lottos, win_nums))"
   ]
  },
  {
   "cell_type": "code",
   "execution_count": null,
   "id": "28dbf73a",
   "metadata": {},
   "outputs": [],
   "source": []
  }
 ],
 "metadata": {
  "kernelspec": {
   "display_name": "Python 3",
   "language": "python",
   "name": "python3"
  },
  "language_info": {
   "codemirror_mode": {
    "name": "ipython",
    "version": 3
   },
   "file_extension": ".py",
   "mimetype": "text/x-python",
   "name": "python",
   "nbconvert_exporter": "python",
   "pygments_lexer": "ipython3",
   "version": "3.8.8"
  }
 },
 "nbformat": 4,
 "nbformat_minor": 5
}
